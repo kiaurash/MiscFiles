{
  "nbformat": 4,
  "nbformat_minor": 0,
  "metadata": {
    "colab": {
      "name": "ANN_Alg_Trading.ipynb",
      "provenance": [],
      "collapsed_sections": [
        "34fzo5s8yVCw",
        "UeBCANEiNI6l"
      ],
      "toc_visible": true,
      "authorship_tag": "ABX9TyM07Tk+Ziqr22GosBLKZRDn",
      "include_colab_link": true
    },
    "kernelspec": {
      "name": "python3",
      "display_name": "Python 3"
    }
  },
  "cells": [
    {
      "cell_type": "markdown",
      "metadata": {
        "id": "view-in-github",
        "colab_type": "text"
      },
      "source": [
        "<a href=\"https://colab.research.google.com/github/kiaurash/MiscFiles/blob/master/ANN_Alg_Trading.ipynb\" target=\"_parent\"><img src=\"https://colab.research.google.com/assets/colab-badge.svg\" alt=\"Open In Colab\"/></a>"
      ]
    },
    {
      "cell_type": "markdown",
      "metadata": {
        "id": "lURslBbmDLlI",
        "colab_type": "text"
      },
      "source": [
        "## Import Libraries and Read Data"
      ]
    },
    {
      "cell_type": "code",
      "metadata": {
        "id": "O4oQvD1XpH3y",
        "colab_type": "code",
        "colab": {
          "base_uri": "https://localhost:8080/",
          "height": 554
        },
        "outputId": "063a73bf-5e50-4c59-8366-14db86b0e407"
      },
      "source": [
        "!pip install utils\n",
        "!pip install mxnet\n",
        "!pip install xgboost\n",
        "!pip install statsmodels"
      ],
      "execution_count": 4,
      "outputs": [
        {
          "output_type": "stream",
          "text": [
            "Requirement already satisfied: utils in /usr/local/lib/python3.6/dist-packages (1.0.1)\n",
            "Collecting mxnet\n",
            "\u001b[?25l  Downloading https://files.pythonhosted.org/packages/81/f5/d79b5b40735086ff1100c680703e0f3efc830fa455e268e9e96f3c857e93/mxnet-1.6.0-py2.py3-none-any.whl (68.7MB)\n",
            "\u001b[K     |████████████████████████████████| 68.7MB 73kB/s \n",
            "\u001b[?25hRequirement already satisfied: numpy<2.0.0,>1.16.0 in /usr/local/lib/python3.6/dist-packages (from mxnet) (1.18.5)\n",
            "Collecting graphviz<0.9.0,>=0.8.1\n",
            "  Downloading https://files.pythonhosted.org/packages/53/39/4ab213673844e0c004bed8a0781a0721a3f6bb23eb8854ee75c236428892/graphviz-0.8.4-py2.py3-none-any.whl\n",
            "Requirement already satisfied: requests<3,>=2.20.0 in /usr/local/lib/python3.6/dist-packages (from mxnet) (2.23.0)\n",
            "Requirement already satisfied: chardet<4,>=3.0.2 in /usr/local/lib/python3.6/dist-packages (from requests<3,>=2.20.0->mxnet) (3.0.4)\n",
            "Requirement already satisfied: idna<3,>=2.5 in /usr/local/lib/python3.6/dist-packages (from requests<3,>=2.20.0->mxnet) (2.10)\n",
            "Requirement already satisfied: urllib3!=1.25.0,!=1.25.1,<1.26,>=1.21.1 in /usr/local/lib/python3.6/dist-packages (from requests<3,>=2.20.0->mxnet) (1.24.3)\n",
            "Requirement already satisfied: certifi>=2017.4.17 in /usr/local/lib/python3.6/dist-packages (from requests<3,>=2.20.0->mxnet) (2020.6.20)\n",
            "Installing collected packages: graphviz, mxnet\n",
            "  Found existing installation: graphviz 0.10.1\n",
            "    Uninstalling graphviz-0.10.1:\n",
            "      Successfully uninstalled graphviz-0.10.1\n",
            "Successfully installed graphviz-0.8.4 mxnet-1.6.0\n",
            "Requirement already satisfied: xgboost in /usr/local/lib/python3.6/dist-packages (0.90)\n",
            "Requirement already satisfied: scipy in /usr/local/lib/python3.6/dist-packages (from xgboost) (1.4.1)\n",
            "Requirement already satisfied: numpy in /usr/local/lib/python3.6/dist-packages (from xgboost) (1.18.5)\n",
            "Requirement already satisfied: statsmodels in /usr/local/lib/python3.6/dist-packages (0.10.2)\n",
            "Requirement already satisfied: pandas>=0.19 in /usr/local/lib/python3.6/dist-packages (from statsmodels) (1.0.5)\n",
            "Requirement already satisfied: patsy>=0.4.0 in /usr/local/lib/python3.6/dist-packages (from statsmodels) (0.5.1)\n",
            "Requirement already satisfied: numpy>=1.11 in /usr/local/lib/python3.6/dist-packages (from statsmodels) (1.18.5)\n",
            "Requirement already satisfied: scipy>=0.18 in /usr/local/lib/python3.6/dist-packages (from statsmodels) (1.4.1)\n",
            "Requirement already satisfied: pytz>=2017.2 in /usr/local/lib/python3.6/dist-packages (from pandas>=0.19->statsmodels) (2018.9)\n",
            "Requirement already satisfied: python-dateutil>=2.6.1 in /usr/local/lib/python3.6/dist-packages (from pandas>=0.19->statsmodels) (2.8.1)\n",
            "Requirement already satisfied: six in /usr/local/lib/python3.6/dist-packages (from patsy>=0.4.0->statsmodels) (1.15.0)\n"
          ],
          "name": "stdout"
        }
      ]
    },
    {
      "cell_type": "code",
      "metadata": {
        "id": "WKg03wRIo3xb",
        "colab_type": "code",
        "colab": {
          "base_uri": "https://localhost:8080/",
          "height": 74
        },
        "outputId": "d3b94464-9111-4245-98f0-e30d11755806"
      },
      "source": [
        "#From https://github.com/borisbanushev/stockpredictionai#fouriertransform\n",
        "from utils import *\n",
        "\n",
        "import time\n",
        "import numpy as np\n",
        "\n",
        "from mxnet import nd, autograd, gluon\n",
        "from mxnet.gluon import nn, rnn\n",
        "import mxnet as mx\n",
        "import datetime\n",
        "import seaborn as sns\n",
        "\n",
        "import matplotlib.pyplot as plt\n",
        "%matplotlib inline\n",
        "from sklearn.decomposition import PCA\n",
        "\n",
        "import math\n",
        "\n",
        "from sklearn.preprocessing import MinMaxScaler\n",
        "from sklearn.metrics import mean_squared_error\n",
        "from sklearn.preprocessing import StandardScaler\n",
        "\n",
        "import xgboost as xgb\n",
        "from sklearn.metrics import accuracy_score"
      ],
      "execution_count": 5,
      "outputs": [
        {
          "output_type": "stream",
          "text": [
            "/usr/local/lib/python3.6/dist-packages/statsmodels/tools/_testing.py:19: FutureWarning: pandas.util.testing is deprecated. Use the functions in the public API at pandas.testing instead.\n",
            "  import pandas.util.testing as tm\n"
          ],
          "name": "stderr"
        }
      ]
    },
    {
      "cell_type": "code",
      "metadata": {
        "id": "66ABZ5Xl8vtw",
        "colab_type": "code",
        "colab": {}
      },
      "source": [
        "import pandas as pd\n",
        "import datetime as dt\n",
        "from datetime import datetime\n",
        "import pandas_datareader.data as pdr\n",
        "from pylab import mpl, plt\n",
        "%matplotlib inline\n",
        "import json\n",
        "import requests\n",
        "import numpy as np\n",
        "from sklearn import preprocessing"
      ],
      "execution_count": 8,
      "outputs": []
    },
    {
      "cell_type": "code",
      "metadata": {
        "id": "4cRDu7x6p1Qv",
        "colab_type": "code",
        "colab": {}
      },
      "source": [
        "import warnings\n",
        "warnings.filterwarnings(\"ignore\")"
      ],
      "execution_count": 6,
      "outputs": []
    },
    {
      "cell_type": "code",
      "metadata": {
        "id": "JHuNyvuQps8M",
        "colab_type": "code",
        "colab": {}
      },
      "source": [
        "from sklearn.linear_model import LinearRegression\n",
        "from sklearn import linear_model\n",
        "from sklearn.naive_bayes import GaussianNB\n",
        "from sklearn.svm import SVC\n",
        "from sklearn.model_selection import train_test_split\n",
        "from sklearn.model_selection import TimeSeriesSplit\n",
        "from sklearn.ensemble import RandomForestClassifier"
      ],
      "execution_count": 2,
      "outputs": []
    },
    {
      "cell_type": "code",
      "metadata": {
        "id": "j0nx2t658-Yg",
        "colab_type": "code",
        "colab": {}
      },
      "source": [
        "plt.style.use('seaborn')\n",
        "mpl.rcParams['font.family'] = 'serif'\n",
        "%matplotlib inline"
      ],
      "execution_count": 3,
      "outputs": []
    },
    {
      "cell_type": "code",
      "metadata": {
        "id": "aGgYunVJNeWq",
        "colab_type": "code",
        "colab": {}
      },
      "source": [
        "from tensorflow import keras"
      ],
      "execution_count": null,
      "outputs": []
    },
    {
      "cell_type": "code",
      "metadata": {
        "id": "Hbqijehe9XVY",
        "colab_type": "code",
        "colab": {}
      },
      "source": [
        "# Import TimeSeries packages\n",
        "from statsmodels.tsa.stattools import acf\n",
        "from statsmodels.graphics.tsaplots import plot_acf, plot_pacf\n",
        "from statsmodels.tsa.stattools import adfuller\n",
        "from statsmodels.tsa.statespace.sarimax import SARIMAX"
      ],
      "execution_count": 4,
      "outputs": []
    },
    {
      "cell_type": "markdown",
      "metadata": {
        "id": "v4L4BefJq0HN",
        "colab_type": "text"
      },
      "source": [
        "## Data Prep"
      ]
    },
    {
      "cell_type": "code",
      "metadata": {
        "id": "mitC0FaK8-zV",
        "colab_type": "code",
        "colab": {}
      },
      "source": [
        "## Define Parameters\n",
        "symbol = 'SPY'\n",
        "start = datetime(2001, 1, 1)\n",
        "end = datetime(2020,7, 16)\n",
        "#split_date = datetime.date(2008,4,12)"
      ],
      "execution_count": 9,
      "outputs": []
    },
    {
      "cell_type": "code",
      "metadata": {
        "id": "eV_AEkbRrH9o",
        "colab_type": "code",
        "colab": {}
      },
      "source": [
        ""
      ],
      "execution_count": null,
      "outputs": []
    },
    {
      "cell_type": "code",
      "metadata": {
        "id": "9tdvwAyU9fg1",
        "colab_type": "code",
        "colab": {
          "base_uri": "https://localhost:8080/",
          "height": 237
        },
        "outputId": "02d39e2f-84d5-40ce-dda8-b7aa28736025"
      },
      "source": [
        "stock_data = pdr.get_data_yahoo(symbol, start, end)\n",
        "data= pd.DataFrame()\n",
        "stock=pd.DataFrame()\n",
        "data[symbol] = stock_data['Close']\n",
        "data['Open']= stock_data['Open']\n",
        "data['Low'] = stock_data['Low']\n",
        "data['High'] =stock_data['High']\n",
        "data.tail()"
      ],
      "execution_count": 11,
      "outputs": [
        {
          "output_type": "execute_result",
          "data": {
            "text/html": [
              "<div>\n",
              "<style scoped>\n",
              "    .dataframe tbody tr th:only-of-type {\n",
              "        vertical-align: middle;\n",
              "    }\n",
              "\n",
              "    .dataframe tbody tr th {\n",
              "        vertical-align: top;\n",
              "    }\n",
              "\n",
              "    .dataframe thead th {\n",
              "        text-align: right;\n",
              "    }\n",
              "</style>\n",
              "<table border=\"1\" class=\"dataframe\">\n",
              "  <thead>\n",
              "    <tr style=\"text-align: right;\">\n",
              "      <th></th>\n",
              "      <th>SPY</th>\n",
              "      <th>Open</th>\n",
              "      <th>Low</th>\n",
              "      <th>High</th>\n",
              "    </tr>\n",
              "    <tr>\n",
              "      <th>Date</th>\n",
              "      <th></th>\n",
              "      <th></th>\n",
              "      <th></th>\n",
              "      <th></th>\n",
              "    </tr>\n",
              "  </thead>\n",
              "  <tbody>\n",
              "    <tr>\n",
              "      <th>2020-07-10</th>\n",
              "      <td>317.589996</td>\n",
              "      <td>314.309998</td>\n",
              "      <td>312.760010</td>\n",
              "      <td>317.880005</td>\n",
              "    </tr>\n",
              "    <tr>\n",
              "      <th>2020-07-13</th>\n",
              "      <td>314.839996</td>\n",
              "      <td>320.130005</td>\n",
              "      <td>314.130005</td>\n",
              "      <td>322.709991</td>\n",
              "    </tr>\n",
              "    <tr>\n",
              "      <th>2020-07-14</th>\n",
              "      <td>318.920013</td>\n",
              "      <td>313.299988</td>\n",
              "      <td>312.000000</td>\n",
              "      <td>319.760010</td>\n",
              "    </tr>\n",
              "    <tr>\n",
              "      <th>2020-07-15</th>\n",
              "      <td>321.850006</td>\n",
              "      <td>322.410004</td>\n",
              "      <td>319.269989</td>\n",
              "      <td>323.040009</td>\n",
              "    </tr>\n",
              "    <tr>\n",
              "      <th>2020-07-16</th>\n",
              "      <td>320.790009</td>\n",
              "      <td>319.790009</td>\n",
              "      <td>319.089996</td>\n",
              "      <td>321.279999</td>\n",
              "    </tr>\n",
              "  </tbody>\n",
              "</table>\n",
              "</div>"
            ],
            "text/plain": [
              "                   SPY        Open         Low        High\n",
              "Date                                                      \n",
              "2020-07-10  317.589996  314.309998  312.760010  317.880005\n",
              "2020-07-13  314.839996  320.130005  314.130005  322.709991\n",
              "2020-07-14  318.920013  313.299988  312.000000  319.760010\n",
              "2020-07-15  321.850006  322.410004  319.269989  323.040009\n",
              "2020-07-16  320.790009  319.790009  319.089996  321.279999"
            ]
          },
          "metadata": {
            "tags": []
          },
          "execution_count": 11
        }
      ]
    },
    {
      "cell_type": "code",
      "metadata": {
        "id": "HJEw-JnirNDI",
        "colab_type": "code",
        "colab": {
          "base_uri": "https://localhost:8080/",
          "height": 345
        },
        "outputId": "b64f3408-d1d7-4176-d9ef-910a0a576b64"
      },
      "source": [
        "data.to_csv('/data/close_spy.csv')"
      ],
      "execution_count": 12,
      "outputs": [
        {
          "output_type": "error",
          "ename": "FileNotFoundError",
          "evalue": "ignored",
          "traceback": [
            "\u001b[0;31m---------------------------------------------------------------------------\u001b[0m",
            "\u001b[0;31mFileNotFoundError\u001b[0m                         Traceback (most recent call last)",
            "\u001b[0;32m<ipython-input-12-ab8540cefbd2>\u001b[0m in \u001b[0;36m<module>\u001b[0;34m()\u001b[0m\n\u001b[0;32m----> 1\u001b[0;31m \u001b[0mdata\u001b[0m\u001b[0;34m.\u001b[0m\u001b[0mto_csv\u001b[0m\u001b[0;34m(\u001b[0m\u001b[0;34m'/data/close_spy.csv'\u001b[0m\u001b[0;34m)\u001b[0m\u001b[0;34m\u001b[0m\u001b[0;34m\u001b[0m\u001b[0m\n\u001b[0m",
            "\u001b[0;32m/usr/local/lib/python3.6/dist-packages/pandas/core/generic.py\u001b[0m in \u001b[0;36mto_csv\u001b[0;34m(self, path_or_buf, sep, na_rep, float_format, columns, header, index, index_label, mode, encoding, compression, quoting, quotechar, line_terminator, chunksize, date_format, doublequote, escapechar, decimal)\u001b[0m\n\u001b[1;32m   3202\u001b[0m             \u001b[0mdecimal\u001b[0m\u001b[0;34m=\u001b[0m\u001b[0mdecimal\u001b[0m\u001b[0;34m,\u001b[0m\u001b[0;34m\u001b[0m\u001b[0;34m\u001b[0m\u001b[0m\n\u001b[1;32m   3203\u001b[0m         )\n\u001b[0;32m-> 3204\u001b[0;31m         \u001b[0mformatter\u001b[0m\u001b[0;34m.\u001b[0m\u001b[0msave\u001b[0m\u001b[0;34m(\u001b[0m\u001b[0;34m)\u001b[0m\u001b[0;34m\u001b[0m\u001b[0;34m\u001b[0m\u001b[0m\n\u001b[0m\u001b[1;32m   3205\u001b[0m \u001b[0;34m\u001b[0m\u001b[0m\n\u001b[1;32m   3206\u001b[0m         \u001b[0;32mif\u001b[0m \u001b[0mpath_or_buf\u001b[0m \u001b[0;32mis\u001b[0m \u001b[0;32mNone\u001b[0m\u001b[0;34m:\u001b[0m\u001b[0;34m\u001b[0m\u001b[0;34m\u001b[0m\u001b[0m\n",
            "\u001b[0;32m/usr/local/lib/python3.6/dist-packages/pandas/io/formats/csvs.py\u001b[0m in \u001b[0;36msave\u001b[0;34m(self)\u001b[0m\n\u001b[1;32m    186\u001b[0m                 \u001b[0mself\u001b[0m\u001b[0;34m.\u001b[0m\u001b[0mmode\u001b[0m\u001b[0;34m,\u001b[0m\u001b[0;34m\u001b[0m\u001b[0;34m\u001b[0m\u001b[0m\n\u001b[1;32m    187\u001b[0m                 \u001b[0mencoding\u001b[0m\u001b[0;34m=\u001b[0m\u001b[0mself\u001b[0m\u001b[0;34m.\u001b[0m\u001b[0mencoding\u001b[0m\u001b[0;34m,\u001b[0m\u001b[0;34m\u001b[0m\u001b[0;34m\u001b[0m\u001b[0m\n\u001b[0;32m--> 188\u001b[0;31m                 \u001b[0mcompression\u001b[0m\u001b[0;34m=\u001b[0m\u001b[0mdict\u001b[0m\u001b[0;34m(\u001b[0m\u001b[0mself\u001b[0m\u001b[0;34m.\u001b[0m\u001b[0mcompression_args\u001b[0m\u001b[0;34m,\u001b[0m \u001b[0mmethod\u001b[0m\u001b[0;34m=\u001b[0m\u001b[0mself\u001b[0m\u001b[0;34m.\u001b[0m\u001b[0mcompression\u001b[0m\u001b[0;34m)\u001b[0m\u001b[0;34m,\u001b[0m\u001b[0;34m\u001b[0m\u001b[0;34m\u001b[0m\u001b[0m\n\u001b[0m\u001b[1;32m    189\u001b[0m             )\n\u001b[1;32m    190\u001b[0m             \u001b[0mclose\u001b[0m \u001b[0;34m=\u001b[0m \u001b[0;32mTrue\u001b[0m\u001b[0;34m\u001b[0m\u001b[0;34m\u001b[0m\u001b[0m\n",
            "\u001b[0;32m/usr/local/lib/python3.6/dist-packages/pandas/io/common.py\u001b[0m in \u001b[0;36mget_handle\u001b[0;34m(path_or_buf, mode, encoding, compression, memory_map, is_text)\u001b[0m\n\u001b[1;32m    426\u001b[0m         \u001b[0;32mif\u001b[0m \u001b[0mencoding\u001b[0m\u001b[0;34m:\u001b[0m\u001b[0;34m\u001b[0m\u001b[0;34m\u001b[0m\u001b[0m\n\u001b[1;32m    427\u001b[0m             \u001b[0;31m# Encoding\u001b[0m\u001b[0;34m\u001b[0m\u001b[0;34m\u001b[0m\u001b[0;34m\u001b[0m\u001b[0m\n\u001b[0;32m--> 428\u001b[0;31m             \u001b[0mf\u001b[0m \u001b[0;34m=\u001b[0m \u001b[0mopen\u001b[0m\u001b[0;34m(\u001b[0m\u001b[0mpath_or_buf\u001b[0m\u001b[0;34m,\u001b[0m \u001b[0mmode\u001b[0m\u001b[0;34m,\u001b[0m \u001b[0mencoding\u001b[0m\u001b[0;34m=\u001b[0m\u001b[0mencoding\u001b[0m\u001b[0;34m,\u001b[0m \u001b[0mnewline\u001b[0m\u001b[0;34m=\u001b[0m\u001b[0;34m\"\"\u001b[0m\u001b[0;34m)\u001b[0m\u001b[0;34m\u001b[0m\u001b[0;34m\u001b[0m\u001b[0m\n\u001b[0m\u001b[1;32m    429\u001b[0m         \u001b[0;32melif\u001b[0m \u001b[0mis_text\u001b[0m\u001b[0;34m:\u001b[0m\u001b[0;34m\u001b[0m\u001b[0;34m\u001b[0m\u001b[0m\n\u001b[1;32m    430\u001b[0m             \u001b[0;31m# No explicit encoding\u001b[0m\u001b[0;34m\u001b[0m\u001b[0;34m\u001b[0m\u001b[0;34m\u001b[0m\u001b[0m\n",
            "\u001b[0;31mFileNotFoundError\u001b[0m: [Errno 2] No such file or directory: '/data/close_spy.csv'"
          ]
        }
      ]
    },
    {
      "cell_type": "code",
      "metadata": {
        "id": "bWSbHMyQq-Xo",
        "colab_type": "code",
        "colab": {}
      },
      "source": [
        "def parser(x):\n",
        "    return datetime.datetime.strptime(x,'%Y-%m-%d')"
      ],
      "execution_count": 10,
      "outputs": []
    },
    {
      "cell_type": "markdown",
      "metadata": {
        "id": "RBuTWeiujr-3",
        "colab_type": "text"
      },
      "source": [
        "##Create Features"
      ]
    },
    {
      "cell_type": "code",
      "metadata": {
        "id": "mViq0qqkAYVU",
        "colab_type": "code",
        "colab": {
          "base_uri": "https://localhost:8080/",
          "height": 257
        },
        "outputId": "a08e8c45-c9ff-4edf-fab6-a15b40776b09"
      },
      "source": [
        "#data['close_ratio'] = data[symbol].pct_change()\n",
        "# Define Retrun as difference between OPEN and CLOSE\n",
        "#data['daily_log']= np.log(data[symbol]/data['Open']) #Ratio of Close to Open\n",
        "#data['diff'] = data[symbol] - data[symbol].shift()\n",
        "#data['daily_change'] = data[symbol]/ data['Open']\n",
        "data['return'] =(data[symbol] - data['Open']) #Returns based on difference between Day's Close to Open\n",
        "data['Updirection'] = np.where(data['return'] > 0, 1, 0) #Overnight direction of the stock\n",
        "data['Dndirection'] = np.where(data['return'] < 0, 1, 0) #Overnight direction of the stock\n",
        "data['direction'] = np.where(data['return'] > 0, 1, -1) #Overnight direction of the stock\n",
        "data.dropna(inplace=True)\n",
        "data.tail()"
      ],
      "execution_count": 7,
      "outputs": [
        {
          "output_type": "execute_result",
          "data": {
            "text/html": [
              "<div>\n",
              "<style scoped>\n",
              "    .dataframe tbody tr th:only-of-type {\n",
              "        vertical-align: middle;\n",
              "    }\n",
              "\n",
              "    .dataframe tbody tr th {\n",
              "        vertical-align: top;\n",
              "    }\n",
              "\n",
              "    .dataframe thead th {\n",
              "        text-align: right;\n",
              "    }\n",
              "</style>\n",
              "<table border=\"1\" class=\"dataframe\">\n",
              "  <thead>\n",
              "    <tr style=\"text-align: right;\">\n",
              "      <th></th>\n",
              "      <th>SPY</th>\n",
              "      <th>Open</th>\n",
              "      <th>Low</th>\n",
              "      <th>High</th>\n",
              "      <th>return</th>\n",
              "      <th>Updirection</th>\n",
              "      <th>Dndirection</th>\n",
              "      <th>direction</th>\n",
              "    </tr>\n",
              "    <tr>\n",
              "      <th>Date</th>\n",
              "      <th></th>\n",
              "      <th></th>\n",
              "      <th></th>\n",
              "      <th></th>\n",
              "      <th></th>\n",
              "      <th></th>\n",
              "      <th></th>\n",
              "      <th></th>\n",
              "    </tr>\n",
              "  </thead>\n",
              "  <tbody>\n",
              "    <tr>\n",
              "      <th>2020-07-10</th>\n",
              "      <td>317.589996</td>\n",
              "      <td>314.309998</td>\n",
              "      <td>312.760010</td>\n",
              "      <td>317.880005</td>\n",
              "      <td>3.279999</td>\n",
              "      <td>1</td>\n",
              "      <td>0</td>\n",
              "      <td>1</td>\n",
              "    </tr>\n",
              "    <tr>\n",
              "      <th>2020-07-13</th>\n",
              "      <td>314.839996</td>\n",
              "      <td>320.130005</td>\n",
              "      <td>314.130005</td>\n",
              "      <td>322.709991</td>\n",
              "      <td>-5.290009</td>\n",
              "      <td>0</td>\n",
              "      <td>1</td>\n",
              "      <td>-1</td>\n",
              "    </tr>\n",
              "    <tr>\n",
              "      <th>2020-07-14</th>\n",
              "      <td>318.920013</td>\n",
              "      <td>313.299988</td>\n",
              "      <td>312.000000</td>\n",
              "      <td>319.760010</td>\n",
              "      <td>5.620026</td>\n",
              "      <td>1</td>\n",
              "      <td>0</td>\n",
              "      <td>1</td>\n",
              "    </tr>\n",
              "    <tr>\n",
              "      <th>2020-07-15</th>\n",
              "      <td>321.850006</td>\n",
              "      <td>322.410004</td>\n",
              "      <td>319.269989</td>\n",
              "      <td>323.040009</td>\n",
              "      <td>-0.559998</td>\n",
              "      <td>0</td>\n",
              "      <td>1</td>\n",
              "      <td>-1</td>\n",
              "    </tr>\n",
              "    <tr>\n",
              "      <th>2020-07-16</th>\n",
              "      <td>320.790009</td>\n",
              "      <td>319.790009</td>\n",
              "      <td>319.089996</td>\n",
              "      <td>321.279999</td>\n",
              "      <td>1.000000</td>\n",
              "      <td>1</td>\n",
              "      <td>0</td>\n",
              "      <td>1</td>\n",
              "    </tr>\n",
              "  </tbody>\n",
              "</table>\n",
              "</div>"
            ],
            "text/plain": [
              "                   SPY        Open  ...  Dndirection  direction\n",
              "Date                                ...                        \n",
              "2020-07-10  317.589996  314.309998  ...            0          1\n",
              "2020-07-13  314.839996  320.130005  ...            1         -1\n",
              "2020-07-14  318.920013  313.299988  ...            0          1\n",
              "2020-07-15  321.850006  322.410004  ...            1         -1\n",
              "2020-07-16  320.790009  319.790009  ...            0          1\n",
              "\n",
              "[5 rows x 8 columns]"
            ]
          },
          "metadata": {
            "tags": []
          },
          "execution_count": 7
        }
      ]
    },
    {
      "cell_type": "code",
      "metadata": {
        "id": "uky2seMYsySs",
        "colab_type": "code",
        "colab": {}
      },
      "source": [
        "# Ichimoku\n",
        "T = 9\n",
        "K = 26\n",
        "S = 52\n",
        "data.loc[data.index[1:], 'Tenkan'] = (data.loc[data.index[0:-1],'High'].rolling(T).max().values + data.loc[data.index[0:-1],'Low'].rolling(T).min().values)/2\n",
        "data.loc[data.index[1:], 'Kinjun'] = (data.loc[data.index[0:-1],'High'].rolling(K).max().values + data.loc[data.index[0:-1],'Low'].rolling(K).min().values)/2\n",
        "data.loc[data.index[1:], 'SpanB'] = (data.loc[data.index[0:-1],'High'].rolling(S).max().values + data.loc[data.index[0:-1],'Low'].rolling(S).min().values)/2\n",
        "data['SpanA'] = (data['Tenkan'] + data['Kinjun'])/2"
      ],
      "execution_count": null,
      "outputs": []
    },
    {
      "cell_type": "code",
      "metadata": {
        "id": "7uCSODr2t-21",
        "colab_type": "code",
        "colab": {
          "base_uri": "https://localhost:8080/",
          "height": 163
        },
        "outputId": "3337415f-f0a7-4db8-e221-c077a67a3c46"
      },
      "source": [
        "data.iloc[53:55]"
      ],
      "execution_count": null,
      "outputs": [
        {
          "output_type": "execute_result",
          "data": {
            "text/html": [
              "<div>\n",
              "<style scoped>\n",
              "    .dataframe tbody tr th:only-of-type {\n",
              "        vertical-align: middle;\n",
              "    }\n",
              "\n",
              "    .dataframe tbody tr th {\n",
              "        vertical-align: top;\n",
              "    }\n",
              "\n",
              "    .dataframe thead th {\n",
              "        text-align: right;\n",
              "    }\n",
              "</style>\n",
              "<table border=\"1\" class=\"dataframe\">\n",
              "  <thead>\n",
              "    <tr style=\"text-align: right;\">\n",
              "      <th></th>\n",
              "      <th>SPY</th>\n",
              "      <th>Open</th>\n",
              "      <th>Low</th>\n",
              "      <th>High</th>\n",
              "      <th>return</th>\n",
              "      <th>Updirection</th>\n",
              "      <th>Dndirection</th>\n",
              "      <th>direction</th>\n",
              "      <th>Tenkan</th>\n",
              "      <th>Kinjun</th>\n",
              "      <th>SpanB</th>\n",
              "      <th>SpanA</th>\n",
              "    </tr>\n",
              "    <tr>\n",
              "      <th>Date</th>\n",
              "      <th></th>\n",
              "      <th></th>\n",
              "      <th></th>\n",
              "      <th></th>\n",
              "      <th></th>\n",
              "      <th></th>\n",
              "      <th></th>\n",
              "      <th></th>\n",
              "      <th></th>\n",
              "      <th></th>\n",
              "      <th></th>\n",
              "      <th></th>\n",
              "    </tr>\n",
              "  </thead>\n",
              "  <tbody>\n",
              "    <tr>\n",
              "      <th>2001-03-20</th>\n",
              "      <td>114.199997</td>\n",
              "      <td>117.900002</td>\n",
              "      <td>114.110001</td>\n",
              "      <td>118.459999</td>\n",
              "      <td>-3.700005</td>\n",
              "      <td>0</td>\n",
              "      <td>1</td>\n",
              "      <td>-1</td>\n",
              "      <td>121.024998</td>\n",
              "      <td>124.489998</td>\n",
              "      <td>126.754997</td>\n",
              "      <td>122.757498</td>\n",
              "    </tr>\n",
              "    <tr>\n",
              "      <th>2001-03-21</th>\n",
              "      <td>112.260002</td>\n",
              "      <td>114.180000</td>\n",
              "      <td>111.900002</td>\n",
              "      <td>115.260002</td>\n",
              "      <td>-1.919998</td>\n",
              "      <td>0</td>\n",
              "      <td>1</td>\n",
              "      <td>-1</td>\n",
              "      <td>120.674999</td>\n",
              "      <td>124.139999</td>\n",
              "      <td>126.404999</td>\n",
              "      <td>122.407499</td>\n",
              "    </tr>\n",
              "  </tbody>\n",
              "</table>\n",
              "</div>"
            ],
            "text/plain": [
              "                   SPY        Open  ...       SpanB       SpanA\n",
              "Date                                ...                        \n",
              "2001-03-20  114.199997  117.900002  ...  126.754997  122.757498\n",
              "2001-03-21  112.260002  114.180000  ...  126.404999  122.407499\n",
              "\n",
              "[2 rows x 12 columns]"
            ]
          },
          "metadata": {
            "tags": []
          },
          "execution_count": 13
        }
      ]
    },
    {
      "cell_type": "code",
      "metadata": {
        "id": "VBD8FvMrEdf7",
        "colab_type": "code",
        "colab": {}
      },
      "source": [
        "SMA1=3\n",
        "SMA2 = 8\n",
        "SMA3= 16\n",
        "#df.loc[df.index[1:], 'test'] = df.loc[df.index[0:-1],symbol].rolling(SMA1).mean().values\n",
        "data.loc[data.index[1:], 'SMA1'] = data.loc[data.index[0:-1],symbol].rolling(SMA1).mean().values\n",
        "data.loc[data.index[1:], 'SMA2'] = data.loc[data.index[0:-1],symbol].rolling(SMA2).mean().values\n",
        "data.loc[data.index[1:], 'SMA3'] = data.loc[data.index[0:-1],symbol].rolling(SMA3).mean().values\n",
        "data['OSMA1']= data['Open'].rolling(SMA1).mean()\n",
        "data['OSMA2']= data['Open'].rolling(SMA2).mean()\n",
        "data['OSMA3'] = data['Open'].rolling(SMA3).mean()\n",
        "data['SMA1_ratio'] = data['OSMA1']/data['SMA1']\n",
        "data['SMA2_ratio'] = data['OSMA2']/data['SMA2']\n",
        "data['SMA3_ratio'] = data['OSMA3']/data['SMA3']\n",
        "data['Op_OSMA1'] = data['Open']/data['OSMA1']\n",
        "data['Op_OSMA2'] = data['Open']/data['OSMA2']\n",
        "data['Op_OSMA3'] = data['Open']/data['OSMA3']\n",
        "data['Open_Ratio'] = data['Open']/data['Open'].shift(1) #Ratio of open to last bar's Open\n",
        "data['OC_Ratio'] = data['Open']/data[symbol].shift(1) # Ratio of Open to last bar's Close"
      ],
      "execution_count": 8,
      "outputs": []
    },
    {
      "cell_type": "code",
      "metadata": {
        "id": "GfjyCNVXF8CX",
        "colab_type": "code",
        "colab": {}
      },
      "source": [
        "# Calculate Ratios to Ichimuku\n",
        "data['PT_ratio'] = data['Open']/data['Tenkan']\n",
        "data['PK_ratio'] = data['Open']/data['Kinjun']\n",
        "data['PA_ratio'] = data['Open']/data['SpanA']\n",
        "data['PB_ratio'] = data['Open']/data['SpanB']"
      ],
      "execution_count": null,
      "outputs": []
    },
    {
      "cell_type": "code",
      "metadata": {
        "id": "w0HOZ-JvHHqS",
        "colab_type": "code",
        "colab": {
          "base_uri": "https://localhost:8080/",
          "height": 257
        },
        "outputId": "c61f5f5f-ebbd-41b3-918c-612cefde23de"
      },
      "source": [
        "# Create lags for 2nd, 3rd, and 15th day\n",
        "lags = [1,2,7,8,15]\n",
        "def create_lags(data):\n",
        "  global cols\n",
        "  cols=[]\n",
        "  for lag in lags:\n",
        "    col='lag_{}'.format(lag)\n",
        "    data[col] = data['return'].shift(lag) #Creates the lagged version of the market prices for the current lag value\n",
        "    cols.append(col)\n",
        "create_lags(data)\n",
        "data = data.dropna()\n",
        "data.tail()"
      ],
      "execution_count": 9,
      "outputs": [
        {
          "output_type": "execute_result",
          "data": {
            "text/html": [
              "<div>\n",
              "<style scoped>\n",
              "    .dataframe tbody tr th:only-of-type {\n",
              "        vertical-align: middle;\n",
              "    }\n",
              "\n",
              "    .dataframe tbody tr th {\n",
              "        vertical-align: top;\n",
              "    }\n",
              "\n",
              "    .dataframe thead th {\n",
              "        text-align: right;\n",
              "    }\n",
              "</style>\n",
              "<table border=\"1\" class=\"dataframe\">\n",
              "  <thead>\n",
              "    <tr style=\"text-align: right;\">\n",
              "      <th></th>\n",
              "      <th>SPY</th>\n",
              "      <th>Open</th>\n",
              "      <th>Low</th>\n",
              "      <th>High</th>\n",
              "      <th>return</th>\n",
              "      <th>Updirection</th>\n",
              "      <th>Dndirection</th>\n",
              "      <th>direction</th>\n",
              "      <th>SMA1</th>\n",
              "      <th>SMA2</th>\n",
              "      <th>SMA3</th>\n",
              "      <th>OSMA1</th>\n",
              "      <th>OSMA2</th>\n",
              "      <th>OSMA3</th>\n",
              "      <th>SMA1_ratio</th>\n",
              "      <th>SMA2_ratio</th>\n",
              "      <th>SMA3_ratio</th>\n",
              "      <th>Op_OSMA1</th>\n",
              "      <th>Op_OSMA2</th>\n",
              "      <th>Op_OSMA3</th>\n",
              "      <th>Open_Ratio</th>\n",
              "      <th>OC_Ratio</th>\n",
              "      <th>lag_1</th>\n",
              "      <th>lag_2</th>\n",
              "      <th>lag_7</th>\n",
              "      <th>lag_8</th>\n",
              "      <th>lag_15</th>\n",
              "    </tr>\n",
              "    <tr>\n",
              "      <th>Date</th>\n",
              "      <th></th>\n",
              "      <th></th>\n",
              "      <th></th>\n",
              "      <th></th>\n",
              "      <th></th>\n",
              "      <th></th>\n",
              "      <th></th>\n",
              "      <th></th>\n",
              "      <th></th>\n",
              "      <th></th>\n",
              "      <th></th>\n",
              "      <th></th>\n",
              "      <th></th>\n",
              "      <th></th>\n",
              "      <th></th>\n",
              "      <th></th>\n",
              "      <th></th>\n",
              "      <th></th>\n",
              "      <th></th>\n",
              "      <th></th>\n",
              "      <th></th>\n",
              "      <th></th>\n",
              "      <th></th>\n",
              "      <th></th>\n",
              "      <th></th>\n",
              "      <th></th>\n",
              "      <th></th>\n",
              "    </tr>\n",
              "  </thead>\n",
              "  <tbody>\n",
              "    <tr>\n",
              "      <th>2020-07-10</th>\n",
              "      <td>317.589996</td>\n",
              "      <td>314.309998</td>\n",
              "      <td>312.760010</td>\n",
              "      <td>317.880005</td>\n",
              "      <td>3.279999</td>\n",
              "      <td>1</td>\n",
              "      <td>0</td>\n",
              "      <td>1</td>\n",
              "      <td>314.779999</td>\n",
              "      <td>312.119995</td>\n",
              "      <td>310.199997</td>\n",
              "      <td>315.253326</td>\n",
              "      <td>313.163746</td>\n",
              "      <td>310.740623</td>\n",
              "      <td>1.001504</td>\n",
              "      <td>1.003344</td>\n",
              "      <td>1.001743</td>\n",
              "      <td>0.997008</td>\n",
              "      <td>1.003660</td>\n",
              "      <td>1.011487</td>\n",
              "      <td>0.992015</td>\n",
              "      <td>0.999777</td>\n",
              "      <td>-2.459991</td>\n",
              "      <td>1.570007</td>\n",
              "      <td>4.369995</td>\n",
              "      <td>3.049988</td>\n",
              "      <td>1.769989</td>\n",
              "    </tr>\n",
              "    <tr>\n",
              "      <th>2020-07-13</th>\n",
              "      <td>314.839996</td>\n",
              "      <td>320.130005</td>\n",
              "      <td>314.130005</td>\n",
              "      <td>322.709991</td>\n",
              "      <td>-5.290009</td>\n",
              "      <td>0</td>\n",
              "      <td>1</td>\n",
              "      <td>-1</td>\n",
              "      <td>316.049998</td>\n",
              "      <td>313.761246</td>\n",
              "      <td>310.570621</td>\n",
              "      <td>317.093333</td>\n",
              "      <td>315.181248</td>\n",
              "      <td>311.373123</td>\n",
              "      <td>1.003301</td>\n",
              "      <td>1.004526</td>\n",
              "      <td>1.002584</td>\n",
              "      <td>1.009577</td>\n",
              "      <td>1.015701</td>\n",
              "      <td>1.028123</td>\n",
              "      <td>1.018517</td>\n",
              "      <td>1.007998</td>\n",
              "      <td>3.279999</td>\n",
              "      <td>-2.459991</td>\n",
              "      <td>0.949982</td>\n",
              "      <td>4.369995</td>\n",
              "      <td>-5.529999</td>\n",
              "    </tr>\n",
              "    <tr>\n",
              "      <th>2020-07-14</th>\n",
              "      <td>318.920013</td>\n",
              "      <td>313.299988</td>\n",
              "      <td>312.000000</td>\n",
              "      <td>319.760010</td>\n",
              "      <td>5.620026</td>\n",
              "      <td>1</td>\n",
              "      <td>0</td>\n",
              "      <td>1</td>\n",
              "      <td>315.603333</td>\n",
              "      <td>314.571247</td>\n",
              "      <td>310.761871</td>\n",
              "      <td>315.913330</td>\n",
              "      <td>315.647495</td>\n",
              "      <td>311.318747</td>\n",
              "      <td>1.000982</td>\n",
              "      <td>1.003421</td>\n",
              "      <td>1.001792</td>\n",
              "      <td>0.991728</td>\n",
              "      <td>0.992563</td>\n",
              "      <td>1.006364</td>\n",
              "      <td>0.978665</td>\n",
              "      <td>0.995109</td>\n",
              "      <td>-5.290009</td>\n",
              "      <td>3.279999</td>\n",
              "      <td>-2.009979</td>\n",
              "      <td>0.949982</td>\n",
              "      <td>2.630005</td>\n",
              "    </tr>\n",
              "    <tr>\n",
              "      <th>2020-07-15</th>\n",
              "      <td>321.850006</td>\n",
              "      <td>322.410004</td>\n",
              "      <td>319.269989</td>\n",
              "      <td>323.040009</td>\n",
              "      <td>-0.559998</td>\n",
              "      <td>0</td>\n",
              "      <td>1</td>\n",
              "      <td>-1</td>\n",
              "      <td>317.116669</td>\n",
              "      <td>315.621250</td>\n",
              "      <td>311.404371</td>\n",
              "      <td>318.613332</td>\n",
              "      <td>316.668747</td>\n",
              "      <td>312.219997</td>\n",
              "      <td>1.004720</td>\n",
              "      <td>1.003319</td>\n",
              "      <td>1.002619</td>\n",
              "      <td>1.011916</td>\n",
              "      <td>1.018130</td>\n",
              "      <td>1.032637</td>\n",
              "      <td>1.029078</td>\n",
              "      <td>1.010943</td>\n",
              "      <td>5.620026</td>\n",
              "      <td>-5.290009</td>\n",
              "      <td>0.679993</td>\n",
              "      <td>-2.009979</td>\n",
              "      <td>-1.440002</td>\n",
              "    </tr>\n",
              "    <tr>\n",
              "      <th>2020-07-16</th>\n",
              "      <td>320.790009</td>\n",
              "      <td>319.790009</td>\n",
              "      <td>319.089996</td>\n",
              "      <td>321.279999</td>\n",
              "      <td>1.000000</td>\n",
              "      <td>1</td>\n",
              "      <td>0</td>\n",
              "      <td>1</td>\n",
              "      <td>318.536672</td>\n",
              "      <td>316.823750</td>\n",
              "      <td>312.106247</td>\n",
              "      <td>318.500000</td>\n",
              "      <td>317.096249</td>\n",
              "      <td>312.613749</td>\n",
              "      <td>0.999885</td>\n",
              "      <td>1.000860</td>\n",
              "      <td>1.001626</td>\n",
              "      <td>1.004050</td>\n",
              "      <td>1.008495</td>\n",
              "      <td>1.022956</td>\n",
              "      <td>0.991874</td>\n",
              "      <td>0.993600</td>\n",
              "      <td>-0.559998</td>\n",
              "      <td>5.620026</td>\n",
              "      <td>-1.600006</td>\n",
              "      <td>0.679993</td>\n",
              "      <td>-5.750000</td>\n",
              "    </tr>\n",
              "  </tbody>\n",
              "</table>\n",
              "</div>"
            ],
            "text/plain": [
              "                   SPY        Open         Low  ...     lag_7     lag_8    lag_15\n",
              "Date                                            ...                              \n",
              "2020-07-10  317.589996  314.309998  312.760010  ...  4.369995  3.049988  1.769989\n",
              "2020-07-13  314.839996  320.130005  314.130005  ...  0.949982  4.369995 -5.529999\n",
              "2020-07-14  318.920013  313.299988  312.000000  ... -2.009979  0.949982  2.630005\n",
              "2020-07-15  321.850006  322.410004  319.269989  ...  0.679993 -2.009979 -1.440002\n",
              "2020-07-16  320.790009  319.790009  319.089996  ... -1.600006  0.679993 -5.750000\n",
              "\n",
              "[5 rows x 27 columns]"
            ]
          },
          "metadata": {
            "tags": []
          },
          "execution_count": 9
        }
      ]
    },
    {
      "cell_type": "code",
      "metadata": {
        "id": "t0_Q1HljCGia",
        "colab_type": "code",
        "colab": {
          "base_uri": "https://localhost:8080/",
          "height": 581
        },
        "outputId": "ac3a635c-8624-4c51-dccb-b270ea505ec4"
      },
      "source": [
        "# Fourier Transform\n",
        "open_fft = np.fft.fft(np.asarray(data['Open'].tolist()))\n",
        "fft_df = pd.DataFrame({'fft':open_fft})\n",
        "fft_df['absolute'] = fft_df['fft'].apply(lambda x: np.abs(x))\n",
        "fft_df['angle'] = fft_df['fft'].apply(lambda x: np.angle(x))\n",
        "plt.figure(figsize=(14, 7), dpi=100)\n",
        "fft_list = np.asarray(fft_df['fft'].tolist())\n",
        "for num_ in [3, 6, 9, 100]:\n",
        "    fft_list_m10= np.copy(fft_list); fft_list_m10[num_:-num_]=0\n",
        "    plt.plot(np.fft.ifft(fft_list_m10), label='Fourier transform with {} components'.format(num_))\n",
        "plt.plot(data['Open'].tolist(),  label='Real')\n",
        "plt.xlabel('Days')\n",
        "plt.ylabel('USD')\n",
        "plt.title('Figure 3: SPY Open stock prices & Fourier transforms')\n",
        "plt.legend()\n",
        "plt.show()"
      ],
      "execution_count": 10,
      "outputs": [
        {
          "output_type": "stream",
          "text": [
            "/usr/local/lib/python3.6/dist-packages/numpy/core/_asarray.py:85: ComplexWarning: Casting complex values to real discards the imaginary part\n",
            "  return array(a, dtype, copy=False, order=order)\n",
            "/usr/local/lib/python3.6/dist-packages/numpy/core/_asarray.py:85: ComplexWarning: Casting complex values to real discards the imaginary part\n",
            "  return array(a, dtype, copy=False, order=order)\n",
            "/usr/local/lib/python3.6/dist-packages/numpy/core/_asarray.py:85: ComplexWarning: Casting complex values to real discards the imaginary part\n",
            "  return array(a, dtype, copy=False, order=order)\n",
            "/usr/local/lib/python3.6/dist-packages/numpy/core/_asarray.py:85: ComplexWarning: Casting complex values to real discards the imaginary part\n",
            "  return array(a, dtype, copy=False, order=order)\n"
          ],
          "name": "stderr"
        },
        {
          "output_type": "display_data",
          "data": {
            "image/png": "[encoded data removed]",
            "text/plain": [
              "<Figure size 1400x700 with 1 Axes>"
            ]
          },
          "metadata": {
            "tags": [],
            "needs_background": "light"
          }
        }
      ]
    },
    {
      "cell_type": "code",
      "metadata": {
        "id": "Kq2blxc1FljK",
        "colab_type": "code",
        "colab": {
          "base_uri": "https://localhost:8080/",
          "height": 628
        },
        "outputId": "6b6e17c5-18c7-44ff-c597-e2c3f0886944"
      },
      "source": [
        "from statsmodels.tsa.arima_model import ARIMA\n",
        "from pandas import DataFrame\n",
        "from pandas import datetime\n",
        "\n",
        "series = data[symbol]\n",
        "model = ARIMA(series, order=(5, 1, 0))\n",
        "model_fit = model.fit(disp=0)\n",
        "print(model_fit.summary())"
      ],
      "execution_count": 11,
      "outputs": [
        {
          "output_type": "stream",
          "text": [
            "/usr/local/lib/python3.6/dist-packages/statsmodels/tsa/base/tsa_model.py:219: ValueWarning: A date index has been provided, but it has no associated frequency information and so will be ignored when e.g. forecasting.\n",
            "  ' ignored when e.g. forecasting.', ValueWarning)\n",
            "/usr/local/lib/python3.6/dist-packages/statsmodels/tsa/base/tsa_model.py:219: ValueWarning: A date index has been provided, but it has no associated frequency information and so will be ignored when e.g. forecasting.\n",
            "  ' ignored when e.g. forecasting.', ValueWarning)\n"
          ],
          "name": "stderr"
        },
        {
          "output_type": "stream",
          "text": [
            "                             ARIMA Model Results                              \n",
            "==============================================================================\n",
            "Dep. Variable:                  D.SPY   No. Observations:                 4898\n",
            "Model:                 ARIMA(5, 1, 0)   Log Likelihood              -10306.979\n",
            "Method:                       css-mle   S.D. of innovations              1.985\n",
            "Date:                Tue, 28 Jul 2020   AIC                          20627.959\n",
            "Time:                        01:43:36   BIC                          20673.435\n",
            "Sample:                             1   HQIC                         20643.914\n",
            "                                                                              \n",
            "===============================================================================\n",
            "                  coef    std err          z      P>|z|      [0.025      0.975]\n",
            "-------------------------------------------------------------------------------\n",
            "const           0.0378      0.026      1.464      0.143      -0.013       0.088\n",
            "ar.L1.D.SPY    -0.1374      0.014     -9.617      0.000      -0.165      -0.109\n",
            "ar.L2.D.SPY     0.0564      0.014      3.918      0.000       0.028       0.085\n",
            "ar.L3.D.SPY     0.0181      0.014      1.252      0.210      -0.010       0.046\n",
            "ar.L4.D.SPY    -0.0521      0.014     -3.616      0.000      -0.080      -0.024\n",
            "ar.L5.D.SPY     0.0165      0.014      1.156      0.248      -0.011       0.045\n",
            "                                    Roots                                    \n",
            "=============================================================================\n",
            "                  Real          Imaginary           Modulus         Frequency\n",
            "-----------------------------------------------------------------------------\n",
            "AR.1           -1.4057           -1.0733j            1.7686           -0.3962\n",
            "AR.2           -1.4057           +1.0733j            1.7686            0.3962\n",
            "AR.3            1.3485           -2.0257j            2.4335           -0.1565\n",
            "AR.4            1.3485           +2.0257j            2.4335            0.1565\n",
            "AR.5            3.2681           -0.0000j            3.2681           -0.0000\n",
            "-----------------------------------------------------------------------------\n"
          ],
          "name": "stdout"
        }
      ]
    },
    {
      "cell_type": "code",
      "metadata": {
        "id": "Y1i6_XlhLs6C",
        "colab_type": "code",
        "colab": {}
      },
      "source": [
        "from google.colab import files\n",
        "#validation.to_csv('StockValid.csv', header=True)\n",
        "#files.download('StockValid.csv')\n"
      ],
      "execution_count": null,
      "outputs": []
    },
    {
      "cell_type": "code",
      "metadata": {
        "id": "lUiM0lMAKHbe",
        "colab_type": "code",
        "colab": {
          "base_uri": "https://localhost:8080/",
          "height": 391
        },
        "outputId": "ab32a1ea-28de-4fde-c2bc-bae4c474259a"
      },
      "source": [
        "data['return'].hist(bins=35, figsize=(10,6))"
      ],
      "execution_count": null,
      "outputs": [
        {
          "output_type": "execute_result",
          "data": {
            "text/plain": [
              "<matplotlib.axes._subplots.AxesSubplot at 0x7f6e12c655c0>"
            ]
          },
          "metadata": {
            "tags": []
          },
          "execution_count": 18
        },
        {
          "output_type": "display_data",
          "data": {
            "image/png": "[encoded data removed]",
            "text/plain": [
              "<Figure size 720x432 with 1 Axes>"
            ]
          },
          "metadata": {
            "tags": [],
            "needs_background": "light"
          }
        }
      ]
    },
    {
      "cell_type": "code",
      "metadata": {
        "id": "h-_Z25X5YNQ5",
        "colab_type": "code",
        "colab": {}
      },
      "source": [
        "#!pip install xgboost\n",
        "#!pip install --upgrade xgboost"
      ],
      "execution_count": null,
      "outputs": []
    },
    {
      "cell_type": "code",
      "metadata": {
        "id": "U_jth1lg0oNJ",
        "colab_type": "code",
        "colab": {
          "base_uri": "https://localhost:8080/",
          "height": 146
        },
        "outputId": "98e58ad0-7175-451a-90f5-784c19c233c8"
      },
      "source": [
        "data.columns"
      ],
      "execution_count": null,
      "outputs": [
        {
          "output_type": "execute_result",
          "data": {
            "text/plain": [
              "Index(['SPY', 'Open', 'Low', 'High', 'return', 'Updirection', 'Dndirection',\n",
              "       'direction', 'Tenkan', 'Kinjun', 'SpanB', 'SpanA', 'SMA1', 'SMA2',\n",
              "       'SMA3', 'OSMA1', 'OSMA2', 'OSMA3', 'SMA1_ratio', 'SMA2_ratio',\n",
              "       'SMA3_ratio', 'Op_OSMA1', 'Op_OSMA2', 'Op_OSMA3', 'Open_Ratio',\n",
              "       'OC_Ratio', 'PT_ratio', 'PK_ratio', 'PA_ratio', 'PB_ratio', 'lag_1',\n",
              "       'lag_2', 'lag_7', 'lag_8', 'lag_15'],\n",
              "      dtype='object')"
            ]
          },
          "metadata": {
            "tags": []
          },
          "execution_count": 20
        }
      ]
    },
    {
      "cell_type": "markdown",
      "metadata": {
        "id": "uAEFop1sjytZ",
        "colab_type": "text"
      },
      "source": [
        "## Feature Ranking"
      ]
    },
    {
      "cell_type": "code",
      "metadata": {
        "id": "rWZG3wr69kN_",
        "colab_type": "code",
        "colab": {
          "base_uri": "https://localhost:8080/",
          "height": 35
        },
        "outputId": "1a26959e-b1ec-4247-b477-92f9e6cd1680"
      },
      "source": [
        "target='direction'\n",
        "features = ['Open', 'SMA1', 'Tenkan', 'Kinjun', 'SpanA', 'SpanB',\n",
        "       'SMA1', 'SMA2', 'SMA3', 'OSMA1', 'OSMA2', 'OSMA3', 'SMA1_ratio',\n",
        "       'SMA2_ratio', 'SMA3_ratio', 'Op_OSMA1', 'Op_OSMA2', 'Op_OSMA3',\n",
        "       'Open_Ratio', 'OC_Ratio', 'PT_ratio', 'PK_ratio', 'PA_ratio',\n",
        "       'PB_ratio', 'lag_1', 'lag_2', 'lag_7', 'lag_8', 'lag_15']\n",
        "train = data['2001-01-05':'2014-12-31']\n",
        "yTrain = train[target]\n",
        "xTrain = train[features]\n",
        "xTrain.shape"
      ],
      "execution_count": null,
      "outputs": [
        {
          "output_type": "execute_result",
          "data": {
            "text/plain": [
              "(3469, 29)"
            ]
          },
          "metadata": {
            "tags": []
          },
          "execution_count": 48
        }
      ]
    },
    {
      "cell_type": "code",
      "metadata": {
        "id": "rZkYqWe8rjuk",
        "colab_type": "code",
        "colab": {}
      },
      "source": [
        "features = ['Open', 'SMA1', 'Tenkan', 'Kinjun', 'SpanA', 'SpanB',\n",
        "       'SMA1', 'SMA2', 'SMA3', 'OSMA1', 'OSMA2', 'OSMA3', 'SMA1_ratio',\n",
        "       'SMA2_ratio', 'SMA3_ratio', 'Op_OSMA1', 'Op_OSMA2', 'Op_OSMA3',\n",
        "       'Open_Ratio', 'OC_Ratio', 'PT_ratio', 'PK_ratio', 'PA_ratio',\n",
        "       'PB_ratio', 'lag_1', 'lag_2', 'lag_7', 'lag_8', 'lag_15']"
      ],
      "execution_count": null,
      "outputs": []
    },
    {
      "cell_type": "code",
      "metadata": {
        "id": "UkINWLmsFY21",
        "colab_type": "code",
        "colab": {}
      },
      "source": [
        "from sklearn.ensemble import GradientBoostingClassifier\n",
        "from sklearn.linear_model import LogisticRegression\n",
        "from sklearn.tree import DecisionTreeClassifier\n",
        "from sklearn.ensemble import RandomForestClassifier\n",
        "from sklearn.tree import DecisionTreeClassifier \n",
        "from sklearn.svm import SVC\n",
        "from sklearn.naive_bayes import GaussianNB\n",
        "import xgboost as xgb\n",
        "from xgboost import XGBClassifier"
      ],
      "execution_count": null,
      "outputs": []
    },
    {
      "cell_type": "code",
      "metadata": {
        "id": "7iTSpozP1StZ",
        "colab_type": "code",
        "colab": {}
      },
      "source": [
        "# Scale variables\n",
        "from sklearn import preprocessing\n",
        "import numpy as np\n",
        "scaler = preprocessing.StandardScaler().fit(xTrain)\n",
        "X_scaled = scaler.transform(xTrain)\n"
      ],
      "execution_count": null,
      "outputs": []
    },
    {
      "cell_type": "code",
      "metadata": {
        "id": "75LLLXSjYUPg",
        "colab_type": "code",
        "colab": {
          "base_uri": "https://localhost:8080/",
          "height": 54
        },
        "outputId": "7692c7fc-c767-4647-f6d2-9738da5e2edc"
      },
      "source": [
        "from sklearn.feature_selection import RFE\n",
        "#Recursive Featuring Ranking\n",
        "y =['y']\n",
        "X = [i for i in features]\n",
        "\n",
        "clf = RandomForestClassifier(n_estimators=100)\n",
        "rfe = RFE(clf, n_features_to_select=10, step=1)\n",
        "rfe =rfe.fit(X_scaled, yTrain)\n",
        "rfe.ranking_"
      ],
      "execution_count": null,
      "outputs": [
        {
          "output_type": "execute_result",
          "data": {
            "text/plain": [
              "array([ 1, 19, 18, 17, 20, 14, 15, 13, 11, 12, 16,  7,  1,  3,  1,  5,  6,\n",
              "        4,  1,  1,  9,  1, 10,  2,  8,  1,  1,  1,  1])"
            ]
          },
          "metadata": {
            "tags": []
          },
          "execution_count": 49
        }
      ]
    },
    {
      "cell_type": "code",
      "metadata": {
        "id": "VH3r5kn6ZgYE",
        "colab_type": "code",
        "colab": {
          "base_uri": "https://localhost:8080/",
          "height": 571
        },
        "outputId": "bef71d12-7786-45fe-bf9c-3d12e031a54b"
      },
      "source": [
        "feature_rank = pd.Series(rfe.ranking_, index=features)\n",
        "feature_rank.sort_values(ascending=True)"
      ],
      "execution_count": null,
      "outputs": [
        {
          "output_type": "execute_result",
          "data": {
            "text/plain": [
              "Open           1\n",
              "lag_7          1\n",
              "lag_2          1\n",
              "PK_ratio       1\n",
              "OC_Ratio       1\n",
              "Open_Ratio     1\n",
              "lag_8          1\n",
              "SMA1_ratio     1\n",
              "SMA3_ratio     1\n",
              "lag_15         1\n",
              "PB_ratio       2\n",
              "SMA2_ratio     3\n",
              "Op_OSMA3       4\n",
              "Op_OSMA1       5\n",
              "Op_OSMA2       6\n",
              "OSMA3          7\n",
              "lag_1          8\n",
              "PT_ratio       9\n",
              "PA_ratio      10\n",
              "SMA3          11\n",
              "OSMA1         12\n",
              "SMA2          13\n",
              "SpanB         14\n",
              "SMA1          15\n",
              "OSMA2         16\n",
              "Kinjun        17\n",
              "Tenkan        18\n",
              "SMA1          19\n",
              "SpanA         20\n",
              "dtype: int64"
            ]
          },
          "metadata": {
            "tags": []
          },
          "execution_count": 51
        }
      ]
    },
    {
      "cell_type": "code",
      "metadata": {
        "id": "DCbR7UDV9NmG",
        "colab_type": "code",
        "colab": {
          "base_uri": "https://localhost:8080/",
          "height": 571
        },
        "outputId": "77abe27d-1e14-4de5-b0b3-7408ab5c8414"
      },
      "source": [
        "print('Feature importance for RandomForest based on RFE: ', feature_rank.sort_values(ascending=True))"
      ],
      "execution_count": null,
      "outputs": [
        {
          "output_type": "stream",
          "text": [
            "Feature importance for RandomForest based on RFE:  Open           1\n",
            "OC_Ratio       1\n",
            "SMA1_ratio     1\n",
            "PK_ratio       1\n",
            "SMA3           1\n",
            "lag_2          1\n",
            "PA_ratio       1\n",
            "lag_7          1\n",
            "Tenkan         1\n",
            "SpanB          1\n",
            "lag_8          2\n",
            "Op_OSMA1       3\n",
            "SMA2_ratio     4\n",
            "Kinjun         5\n",
            "SMA1           6\n",
            "Open_Ratio     7\n",
            "Op_OSMA3       8\n",
            "PT_ratio       9\n",
            "lag_1         10\n",
            "SMA3_ratio    11\n",
            "Op_OSMA2      12\n",
            "SpanA         13\n",
            "OSMA3         14\n",
            "OSMA1         15\n",
            "PB_ratio      16\n",
            "lag_15        17\n",
            "OSMA2         18\n",
            "SMA1          19\n",
            "SMA2          20\n",
            "dtype: int64\n"
          ],
          "name": "stdout"
        }
      ]
    },
    {
      "cell_type": "markdown",
      "metadata": {
        "id": "iIqyd2XOk75z",
        "colab_type": "text"
      },
      "source": [
        "SMA3_ratio     1\n",
        "lag_2          1\n",
        "PA_ratio       1\n",
        "PK_ratio       1\n",
        "OC_Ratio       1\n",
        "Op_OSMA1       1\n",
        "lag_8          1\n",
        "SMA2_ratio     1\n",
        "SMA1_ratio     1\n",
        "OSMA3          1"
      ]
    },
    {
      "cell_type": "code",
      "metadata": {
        "id": "v8Q7T_9ik-Sf",
        "colab_type": "code",
        "colab": {}
      },
      "source": [
        "features = ['SMA3_ratio', 'lag_2', 'PA_ratio','PK_ratio','OC_Ratio','Op_OSMA1','lag_8', 'SMA2_ratio','SMA1_ratio', 'OSMA3' ]"
      ],
      "execution_count": null,
      "outputs": []
    },
    {
      "cell_type": "code",
      "metadata": {
        "id": "m6lfnZdoCnll",
        "colab_type": "code",
        "colab": {}
      },
      "source": [
        "train = data['2001-01-05':'2014-12-31']\n",
        "yTrain = train[target]\n",
        "xTrain = train[features]"
      ],
      "execution_count": null,
      "outputs": []
    },
    {
      "cell_type": "code",
      "metadata": {
        "id": "4wD-7334d8i3",
        "colab_type": "code",
        "colab": {
          "base_uri": "https://localhost:8080/",
          "height": 35
        },
        "outputId": "8cb126b6-301b-409b-a8f1-3bf0f56fa103"
      },
      "source": [
        "from sklearn.model_selection import StratifiedKFold\n",
        "from sklearn.feature_selection import RFECV\n",
        "clf = RandomForestClassifier(random_state=101)\n",
        "rfecv = RFECV(estimator=clf, step=1, min_features_to_select=10, cv=StratifiedKFold(10), scoring='accuracy')\n",
        "\n",
        "rfecv.fit(xTrain, yTrain)\n",
        "rfecv.n_features_"
      ],
      "execution_count": null,
      "outputs": [
        {
          "output_type": "execute_result",
          "data": {
            "text/plain": [
              "11"
            ]
          },
          "metadata": {
            "tags": []
          },
          "execution_count": 52
        }
      ]
    },
    {
      "cell_type": "code",
      "metadata": {
        "id": "bllzCWazELIc",
        "colab_type": "code",
        "colab": {}
      },
      "source": [
        "rfecv.grid_scores_"
      ],
      "execution_count": null,
      "outputs": []
    },
    {
      "cell_type": "code",
      "metadata": {
        "id": "jSfNNHgrfEfE",
        "colab_type": "code",
        "colab": {
          "base_uri": "https://localhost:8080/",
          "height": 604
        },
        "outputId": "64ef75f3-a605-4403-c5b5-2eefbea9ed95"
      },
      "source": [
        "plt.figure(figsize=(16, 9))\n",
        "plt.title('Recursive Feature Elimination with Cross-Validation', fontsize=18, fontweight='bold', pad=20)\n",
        "plt.xlabel('Number of features selected', fontsize=14, labelpad=20)\n",
        "plt.ylabel('% Correct Classification', fontsize=14, labelpad=20)\n",
        "plt.plot(range(1, len(rfecv.grid_scores_) + 1), rfecv.grid_scores_, color='#303F9F', linewidth=3)\n",
        "\n",
        "plt.show()"
      ],
      "execution_count": null,
      "outputs": [
        {
          "output_type": "display_data",
          "data": {
            "image/png": "[encoded data removed]",
            "text/plain": [
              "<Figure size 1152x648 with 1 Axes>"
            ]
          },
          "metadata": {
            "tags": [],
            "needs_background": "light"
          }
        }
      ]
    },
    {
      "cell_type": "code",
      "metadata": {
        "id": "Rxhbo-t-0xBL",
        "colab_type": "code",
        "colab": {}
      },
      "source": [
        ""
      ],
      "execution_count": null,
      "outputs": []
    },
    {
      "cell_type": "markdown",
      "metadata": {
        "id": "Pb21o5cy0xtM",
        "colab_type": "text"
      },
      "source": [
        "## Feature Selection"
      ]
    },
    {
      "cell_type": "code",
      "metadata": {
        "id": "6WV2_4P4Kftk",
        "colab_type": "code",
        "colab": {}
      },
      "source": [
        "#All Features:\n",
        "features = ['Open', 'SMA1', 'SMA2', 'SMA3', 'OSMA1', 'OSMA2', 'OSMA3', 'SMA1_ratio', 'SMA2_ratio', 'SMA3_ratio', 'Op_OSMA1', 'Op_OSMA2','Op_OSMA3', 'Open_Ratio', 'OC_Ratio', 'lag_1', 'lag_2', 'lag_7','lag_8', 'lag_15']\n",
        "\n",
        "#features= ['Open','Open_Ratio','O/C_Ratio','SMA1_ratio', 'SMA2_ratio', 'SMA3_ratio', 'Op_OSMA1', 'Op_OSMA2', 'Op_OSMA3', 'lag_1', 'lag_2', 'lag_7', 'lag_8', 'lag_15']\n",
        "#features= ['O/C_Ratio','SMA1_ratio', 'SMA3_ratio', 'SMA2_ratio','lag_7','lag_8', 'lag_15', 'lag_2']\n",
        "#features =['Open', 'O/C_Ratio', 'SMA1_ratio', 'SMA2_ratio', 'Op_OSMA2','Op_OSMA2','lag_2','lag_7', 'lag_8', 'lag_15']\n",
        "#features= ['Open_Ratio','O/C_Ratio','SMA1_ratio', 'SMA2_ratio', 'SMA3_ratio', 'Op_OSMA1', 'Op_OSMA2', 'Op_OSMA3','lag_1', 'lag_2', 'lag_7', 'lag_8', 'lag_15']\n",
        "#features = ['Open','SMA1_ratio', 'SMA2_ratio', 'SMA3_ratio', 'Op_OSMA1', 'Op_OSMA2','Op_OSMA3', 'Open_Ratio', 'O/C_Ratio', 'lag_1', 'lag_2', 'lag_7','lag_8', 'lag_15']\n",
        "#feature_Vol =['SMA1', 'SMA2', 'OSMA1', 'OSMA2','lag_1', 'lag_2', 'Vol_lag']\n",
        "\n",
        "\n",
        "\n",
        "targets = [symbol, 'daily_ration', 'return', 'direction']"
      ],
      "execution_count": null,
      "outputs": []
    },
    {
      "cell_type": "markdown",
      "metadata": {
        "id": "l3iQM2jWB93K",
        "colab_type": "text"
      },
      "source": [
        "OC_Ratio       1\n",
        "SMA1_ratio     1\n",
        "PK_ratio       1\n",
        "SMA3           1\n",
        "lag_2          1\n",
        "PA_ratio       1\n",
        "lag_7          1\n",
        "Tenkan         1\n",
        "SpanB"
      ]
    },
    {
      "cell_type": "code",
      "metadata": {
        "id": "AOtDsdPEB-6u",
        "colab_type": "code",
        "colab": {}
      },
      "source": [
        "# Features for XGBoost\n",
        "features = ['Open','OC_Ratio','SMA1_ratio','PK_ratio','SMA3','lag_2','PA_ratio','lag_7','Tenkan','SpanB']"
      ],
      "execution_count": null,
      "outputs": []
    },
    {
      "cell_type": "code",
      "metadata": {
        "id": "RWJOJkLJuHiK",
        "colab_type": "code",
        "colab": {}
      },
      "source": [
        "# RandomForest Features based on RFE\n",
        "#features =['lag_15','SMA1_ratio', 'SMA2_ratio', 'Op_OSMA1', 'Op_OSMA3','OC_Ratio']\n",
        "#features = ['lag_15','lag_7', 'Open_Ratio', 'SMA1', 'SMA3','OC_Ratio', 'SMA1_ratio']\n",
        "features = ['Open', 'lag_7']"
      ],
      "execution_count": null,
      "outputs": []
    },
    {
      "cell_type": "markdown",
      "metadata": {
        "id": "1_qUc-V3H3mi",
        "colab_type": "text"
      },
      "source": [
        "lag_15         1\n",
        "lag_7          1\n",
        "PB_ratio       1\n",
        "OC_Ratio       1\n",
        "Open_Ratio     1\n",
        "SMA3           1\n",
        "SMA1_ratio     1"
      ]
    },
    {
      "cell_type": "code",
      "metadata": {
        "id": "e74pZS2FuL4M",
        "colab_type": "code",
        "colab": {}
      },
      "source": [
        "#Features based on Markov Blanket\n",
        "features =['lag_15', 'Op_OSMA1','OC_Ratio']"
      ],
      "execution_count": null,
      "outputs": []
    },
    {
      "cell_type": "code",
      "metadata": {
        "id": "PyVDMdjCp3vf",
        "colab_type": "code",
        "colab": {}
      },
      "source": [
        "# RandomForest Features based on RFE + Markove\n",
        "features =['lag_15','SMA1_ratio', 'SMA2_ratio', 'Op_OSMA1', 'Op_OSMA3','O/C_Ratio', 'Op_OSMA1']"
      ],
      "execution_count": null,
      "outputs": []
    },
    {
      "cell_type": "code",
      "metadata": {
        "id": "aRyqCPXA-fGc",
        "colab_type": "code",
        "colab": {}
      },
      "source": [
        "#Logistics RFE Features\n",
        "#features =['Open','SMA1','OMSA2','lag_1', 'lag_2', 'lag_8']\n",
        "#features =['Tenkan', 'Kinjun', 'SMA1', 'OC_Ratio', 'Open_Ratio', 'OSMA2', 'lag_1']\n",
        "features =['SMA3_ratio', 'lag_2']"
      ],
      "execution_count": null,
      "outputs": []
    },
    {
      "cell_type": "markdown",
      "metadata": {
        "id": "hMjk9gRszOSF",
        "colab_type": "text"
      },
      "source": [
        "SMA3_ratio     1\n",
        "lag_2          1"
      ]
    },
    {
      "cell_type": "code",
      "metadata": {
        "id": "UqlWq6krlmCP",
        "colab_type": "code",
        "colab": {}
      },
      "source": [
        "# Logistics & Markov\n",
        "#features =['Open','SMA2', 'OSMA2', 'lag_1', 'lag_15', 'Op_OSMA1', 'OC_Ratio']\n",
        "#features =['Open','SMA1','OSMA2','lag_1', 'lag_2', 'lag_8','lag_15', 'Op_OSMA1','O/C_Ratio']\n",
        "#features =['Tenkan', 'Kinjun', 'SMA1', 'OC_Ratio', 'Open_Ratio', 'OSMA2', 'lag_1', 'lag_15', 'Op_OSMA1']\n",
        "features = ['lag_15', 'Op_OSMA1','OC_Ratio', 'SMA3_ratio', 'lag_2']"
      ],
      "execution_count": null,
      "outputs": []
    },
    {
      "cell_type": "code",
      "metadata": {
        "id": "zXUEJNuy_UtT",
        "colab_type": "code",
        "colab": {}
      },
      "source": [
        "#GradientBoostClassifier based on RFE\n",
        "#features =['Open','OC_Ratio', 'Op_OSMA3', 'SMA1_ratio','lag_8']\n",
        "#features = ['Tenkan', 'Kinjun', 'SMA1', 'OC_Ratio', 'Open_Ratio', 'OSMA2', 'lag_1']\n",
        "#features= ['OC_Ratio', 'SMA3_ratio', 'lag_2', 'Op_OSMA1', 'SMA2_ratio', 'OSMA3']\n",
        "features = ['SMA3_ratio', 'lag_2','PA_ratio','PK_ratio', 'OC_Ratio','Op_OSMA1', 'lag_8', 'SMA2_ratio','SMA1_ratio', \n",
        "           'OSMA3']"
      ],
      "execution_count": null,
      "outputs": []
    },
    {
      "cell_type": "code",
      "metadata": {
        "id": "sF43I7aO1cMW",
        "colab_type": "code",
        "colab": {}
      },
      "source": [
        "#XGbosst based on RFE\n",
        "features =['Open','OC_Ratio', 'SMA1_ratio', 'PK_ratio', 'SMA3', 'lag_2', 'PA_ratio', 'lag_7']"
      ],
      "execution_count": null,
      "outputs": []
    },
    {
      "cell_type": "markdown",
      "metadata": {
        "id": "InAtJnRgLNSn",
        "colab_type": "text"
      },
      "source": [
        "Open           1\n",
        "OC_Ratio       1\n",
        "SMA1_ratio     1\n",
        "PK_ratio       1\n",
        "SMA3           1\n",
        "lag_2          1\n",
        "PA_ratio       1\n",
        "lag_7          1"
      ]
    },
    {
      "cell_type": "markdown",
      "metadata": {
        "id": "MTBjY-HMIAya",
        "colab_type": "text"
      },
      "source": [
        "Tenkan        1\n",
        "Kinjun        1\n",
        "SMA1          1\n",
        "OC_Ratio      1\n",
        "Open_Ratio    1\n",
        "OSMA2         1\n",
        "lag_1         1"
      ]
    },
    {
      "cell_type": "code",
      "metadata": {
        "id": "UBNnEoo7k1zP",
        "colab_type": "code",
        "colab": {}
      },
      "source": [
        "#Combined set of Features\n",
        "features =['Open', 'SMA1', 'OSMA2', 'SMA1_ratio', 'SMA2_ratio', 'Op_OSMA1', 'Op_OSMA3','O/C_Ratio', 'lag_15', 'lag_8']"
      ],
      "execution_count": null,
      "outputs": []
    },
    {
      "cell_type": "code",
      "metadata": {
        "id": "ECIMNPHQKKWH",
        "colab_type": "code",
        "colab": {}
      },
      "source": [
        "# Standardize Features\n",
        "var_c = ['SMA1', 'SMA2', 'OSMA1', 'OSMA2', 'lag_1', 'lag_2', 'lag_15']\n",
        "standardize = lambda x: (x-x.mean()) / x.std()\n",
        "for f in var_c:\n",
        "  data[f] = data[f].pipe(standardize)"
      ],
      "execution_count": null,
      "outputs": []
    },
    {
      "cell_type": "code",
      "metadata": {
        "id": "DjXJPxPOMKks",
        "colab_type": "code",
        "colab": {}
      },
      "source": [
        "data.dropna(inplace=True)\n",
        "data['direction'].value_counts()"
      ],
      "execution_count": null,
      "outputs": []
    },
    {
      "cell_type": "markdown",
      "metadata": {
        "id": "Jc4PXoXWMf6a",
        "colab_type": "text"
      },
      "source": [
        "###Split Data"
      ]
    },
    {
      "cell_type": "code",
      "metadata": {
        "id": "It_V5UWqMh-7",
        "colab_type": "code",
        "colab": {
          "base_uri": "https://localhost:8080/",
          "height": 72
        },
        "outputId": "b1f8a39f-64ff-442f-96cb-b8b6d32cb557"
      },
      "source": [
        "# create train test partition\n",
        "train = data['2001-01-05':'2014-12-31']\n",
        "test  = data['2015-01-01':'2019-01-01']\n",
        "validation = data['2019-01-01':]\n",
        "print('Train Dataset:',train.shape)\n",
        "print('Test Dataset:',test.shape)\n",
        "print('Valid Dataset:', validation.shape)"
      ],
      "execution_count": null,
      "outputs": [
        {
          "output_type": "stream",
          "text": [
            "Train Dataset: (3469, 35)\n",
            "Test Dataset: (1006, 35)\n",
            "Valid Dataset: (388, 35)\n"
          ],
          "name": "stdout"
        }
      ]
    },
    {
      "cell_type": "code",
      "metadata": {
        "id": "N0vJpVGPMkyX",
        "colab_type": "code",
        "colab": {
          "base_uri": "https://localhost:8080/",
          "height": 237
        },
        "outputId": "ecd7ac07-f809-4c8d-870a-8fec06918aca"
      },
      "source": [
        "yTrain = train[target]\n",
        "xTrain = train[features]\n",
        "yTest = test[target]\n",
        "xTest = test[features]\n",
        "yValid = validation[target]\n",
        "xValid = validation[features]\n",
        "#xTrain, xTest, yTrain,yTest = train_test_split(X, y, test_size=0.3, random_state=21)\n",
        "xTrain.head()"
      ],
      "execution_count": null,
      "outputs": [
        {
          "output_type": "execute_result",
          "data": {
            "text/html": [
              "<div>\n",
              "<style scoped>\n",
              "    .dataframe tbody tr th:only-of-type {\n",
              "        vertical-align: middle;\n",
              "    }\n",
              "\n",
              "    .dataframe tbody tr th {\n",
              "        vertical-align: top;\n",
              "    }\n",
              "\n",
              "    .dataframe thead th {\n",
              "        text-align: right;\n",
              "    }\n",
              "</style>\n",
              "<table border=\"1\" class=\"dataframe\">\n",
              "  <thead>\n",
              "    <tr style=\"text-align: right;\">\n",
              "      <th></th>\n",
              "      <th>lag_15</th>\n",
              "      <th>Op_OSMA1</th>\n",
              "      <th>OC_Ratio</th>\n",
              "    </tr>\n",
              "    <tr>\n",
              "      <th>Date</th>\n",
              "      <th></th>\n",
              "      <th></th>\n",
              "      <th></th>\n",
              "    </tr>\n",
              "  </thead>\n",
              "  <tbody>\n",
              "    <tr>\n",
              "      <th>2001-03-19</th>\n",
              "      <td>1.820000</td>\n",
              "      <td>0.988444</td>\n",
              "      <td>1.006521</td>\n",
              "    </tr>\n",
              "    <tr>\n",
              "      <th>2001-03-20</th>\n",
              "      <td>-0.360001</td>\n",
              "      <td>1.008296</td>\n",
              "      <td>1.004687</td>\n",
              "    </tr>\n",
              "    <tr>\n",
              "      <th>2001-03-21</th>\n",
              "      <td>-2.800003</td>\n",
              "      <td>0.984763</td>\n",
              "      <td>0.999825</td>\n",
              "    </tr>\n",
              "    <tr>\n",
              "      <th>2001-03-22</th>\n",
              "      <td>0.549995</td>\n",
              "      <td>0.976635</td>\n",
              "      <td>0.997862</td>\n",
              "    </tr>\n",
              "    <tr>\n",
              "      <th>2001-03-23</th>\n",
              "      <td>1.110001</td>\n",
              "      <td>1.000884</td>\n",
              "      <td>1.019168</td>\n",
              "    </tr>\n",
              "  </tbody>\n",
              "</table>\n",
              "</div>"
            ],
            "text/plain": [
              "              lag_15  Op_OSMA1  OC_Ratio\n",
              "Date                                    \n",
              "2001-03-19  1.820000  0.988444  1.006521\n",
              "2001-03-20 -0.360001  1.008296  1.004687\n",
              "2001-03-21 -2.800003  0.984763  0.999825\n",
              "2001-03-22  0.549995  0.976635  0.997862\n",
              "2001-03-23  1.110001  1.000884  1.019168"
            ]
          },
          "metadata": {
            "tags": []
          },
          "execution_count": 63
        }
      ]
    },
    {
      "cell_type": "code",
      "metadata": {
        "id": "8LbPkxboEjdI",
        "colab_type": "code",
        "colab": {}
      },
      "source": [
        "#xTrain = scaler.transform(xT)\n",
        "#xTest = scaler.transform(xTs)"
      ],
      "execution_count": null,
      "outputs": []
    },
    {
      "cell_type": "code",
      "metadata": {
        "id": "-VJBweJK4HnE",
        "colab_type": "code",
        "colab": {
          "base_uri": "https://localhost:8080/",
          "height": 17
        },
        "outputId": "32fdfce8-abd7-4d80-e356-d11afafca3fc"
      },
      "source": [
        "from google.colab import files\n",
        "#train[features].to_csv('StockTrain.csv', header=True)\n",
        "#files.download('StockTrain.csv')"
      ],
      "execution_count": null,
      "outputs": [
        {
          "output_type": "display_data",
          "data": {
            "application/javascript": [
              "\n",
              "    async function download(id, filename, size) {\n",
              "      if (!google.colab.kernel.accessAllowed) {\n",
              "        return;\n",
              "      }\n",
              "      const div = document.createElement('div');\n",
              "      const label = document.createElement('label');\n",
              "      label.textContent = `Downloading \"${filename}\": `;\n",
              "      div.appendChild(label);\n",
              "      const progress = document.createElement('progress');\n",
              "      progress.max = size;\n",
              "      div.appendChild(progress);\n",
              "      document.body.appendChild(div);\n",
              "\n",
              "      const buffers = [];\n",
              "      let downloaded = 0;\n",
              "\n",
              "      const channel = await google.colab.kernel.comms.open(id);\n",
              "      // Send a message to notify the kernel that we're ready.\n",
              "      channel.send({})\n",
              "\n",
              "      for await (const message of channel.messages) {\n",
              "        // Send a message to notify the kernel that we're ready.\n",
              "        channel.send({})\n",
              "        if (message.buffers) {\n",
              "          for (const buffer of message.buffers) {\n",
              "            buffers.push(buffer);\n",
              "            downloaded += buffer.byteLength;\n",
              "            progress.value = downloaded;\n",
              "          }\n",
              "        }\n",
              "      }\n",
              "      const blob = new Blob(buffers, {type: 'application/binary'});\n",
              "      const a = document.createElement('a');\n",
              "      a.href = window.URL.createObjectURL(blob);\n",
              "      a.download = filename;\n",
              "      div.appendChild(a);\n",
              "      a.click();\n",
              "      div.remove();\n",
              "    }\n",
              "  "
            ],
            "text/plain": [
              "<IPython.core.display.Javascript object>"
            ]
          },
          "metadata": {
            "tags": []
          }
        },
        {
          "output_type": "display_data",
          "data": {
            "application/javascript": [
              "download(\"download_aa3db82e-b21b-42df-b2cc-6e47f1b88d8f\", \"StockTrain.csv\", 1967373)"
            ],
            "text/plain": [
              "<IPython.core.display.Javascript object>"
            ]
          },
          "metadata": {
            "tags": []
          }
        }
      ]
    },
    {
      "cell_type": "markdown",
      "metadata": {
        "id": "pMN7mqO46hRm",
        "colab_type": "text"
      },
      "source": [
        "## Train Multiple Models"
      ]
    },
    {
      "cell_type": "code",
      "metadata": {
        "id": "d9t6yY5K6yf-",
        "colab_type": "code",
        "colab": {}
      },
      "source": [
        "from sklearn.ensemble import GradientBoostingClassifier\n",
        "from sklearn.linear_model import LogisticRegression\n",
        "from sklearn.tree import DecisionTreeClassifier\n",
        "from sklearn.ensemble import RandomForestClassifier\n",
        "from sklearn.naive_bayes import GaussianNB\n",
        "\n",
        "from sklearn import metrics\n",
        "from sklearn.metrics import roc_curve, roc_auc_score, auc\n",
        "from sklearn.metrics import classification_report"
      ],
      "execution_count": null,
      "outputs": []
    },
    {
      "cell_type": "code",
      "metadata": {
        "id": "0VABfCe46j0l",
        "colab_type": "code",
        "colab": {}
      },
      "source": [
        "classifiers = [GradientBoostingClassifier(random_state=0, n_estimators=1000),\n",
        "               LogisticRegression(random_state=1234, max_iter=1000),\n",
        "               RandomForestClassifier(random_state=1234, n_estimators=1000),\n",
        "               GaussianNB()]\n",
        "\n",
        "# Define a result table as a DataFrame\n",
        "result_table = pd.DataFrame(columns=['classifiers', 'fpr','tpr','auc'])\n",
        "\n",
        "# Train the models and record the results\n",
        "for cls in classifiers:\n",
        "  model = cls.fit(xTrain,yTrain)\n",
        "  yproba = model.predict_proba(xTest)[::,1]\n",
        "  \n",
        "  fpr, tpr, _ = roc_curve(yTest,  yproba)\n",
        "  auc = roc_auc_score(yTest, yproba)\n",
        "  result_table = result_table.append({'classifiers':cls.__class__.__name__,\n",
        "                                        'fpr':fpr, \n",
        "                                        'tpr':tpr, \n",
        "                                        'auc':auc}, ignore_index=True)\n",
        "\n",
        "# Set name of the classifiers as index labels\n",
        "result_table.set_index('classifiers', inplace=True)"
      ],
      "execution_count": null,
      "outputs": []
    },
    {
      "cell_type": "code",
      "metadata": {
        "id": "fhh4J4RAKC31",
        "colab_type": "code",
        "colab": {
          "base_uri": "https://localhost:8080/",
          "height": 408
        },
        "outputId": "0a44e286-415a-4432-8b0d-2dcca17eb87a"
      },
      "source": [
        "fig = plt.figure(figsize=(8,6))\n",
        "\n",
        "for i in result_table.index:\n",
        "    plt.plot(result_table.loc[i]['fpr'], \n",
        "             result_table.loc[i]['tpr'], \n",
        "             label=\"{}, AUC={:.3f}\".format(i, result_table.loc[i]['auc']))\n",
        "    \n",
        "plt.plot([0,1], [0,1], color='orange', linestyle='--')\n",
        "\n",
        "plt.xticks(np.arange(0.0, 1.1, step=0.1))\n",
        "plt.xlabel(\"Flase Positive Rate\", fontsize=15)\n",
        "\n",
        "plt.yticks(np.arange(0.0, 1.1, step=0.1))\n",
        "plt.ylabel(\"True Positive Rate\", fontsize=15)\n",
        "\n",
        "plt.title('ROC Curve Analysis', fontweight='bold', fontsize=15)\n",
        "plt.legend(prop={'size':13}, loc='lower right')\n",
        "\n",
        "plt.show()"
      ],
      "execution_count": null,
      "outputs": [
        {
          "output_type": "display_data",
          "data": {
            "image/png": "[encoded data removed]",
            "text/plain": [
              "<Figure size 576x432 with 1 Axes>"
            ]
          },
          "metadata": {
            "tags": [],
            "needs_background": "light"
          }
        }
      ]
    },
    {
      "cell_type": "code",
      "metadata": {
        "id": "QTEaSQbVIPK4",
        "colab_type": "code",
        "colab": {
          "base_uri": "https://localhost:8080/",
          "height": 193
        },
        "outputId": "b660498b-a0b4-495c-cbaf-37bd9cfc0a8e"
      },
      "source": [
        "print(\"Results for New Logit+Markov: \")\n",
        "result_table"
      ],
      "execution_count": null,
      "outputs": [
        {
          "output_type": "stream",
          "text": [
            "Results for New Logit+Markov: \n"
          ],
          "name": "stdout"
        },
        {
          "output_type": "execute_result",
          "data": {
            "text/html": [
              "<div>\n",
              "<style scoped>\n",
              "    .dataframe tbody tr th:only-of-type {\n",
              "        vertical-align: middle;\n",
              "    }\n",
              "\n",
              "    .dataframe tbody tr th {\n",
              "        vertical-align: top;\n",
              "    }\n",
              "\n",
              "    .dataframe thead th {\n",
              "        text-align: right;\n",
              "    }\n",
              "</style>\n",
              "<table border=\"1\" class=\"dataframe\">\n",
              "  <thead>\n",
              "    <tr style=\"text-align: right;\">\n",
              "      <th></th>\n",
              "      <th>fpr</th>\n",
              "      <th>tpr</th>\n",
              "      <th>auc</th>\n",
              "    </tr>\n",
              "    <tr>\n",
              "      <th>classifiers</th>\n",
              "      <th></th>\n",
              "      <th></th>\n",
              "      <th></th>\n",
              "    </tr>\n",
              "  </thead>\n",
              "  <tbody>\n",
              "    <tr>\n",
              "      <th>GradientBoostingClassifier</th>\n",
              "      <td>[0.0, 0.0, 0.0, 0.002079002079002079, 0.002079...</td>\n",
              "      <td>[0.0, 0.0019047619047619048, 0.005714285714285...</td>\n",
              "      <td>0.482790</td>\n",
              "    </tr>\n",
              "    <tr>\n",
              "      <th>LogisticRegression</th>\n",
              "      <td>[0.0, 0.0, 0.0, 0.002079002079002079, 0.002079...</td>\n",
              "      <td>[0.0, 0.0019047619047619048, 0.007619047619047...</td>\n",
              "      <td>0.506124</td>\n",
              "    </tr>\n",
              "    <tr>\n",
              "      <th>RandomForestClassifier</th>\n",
              "      <td>[0.0, 0.0, 0.0, 0.0, 0.004158004158004158, 0.0...</td>\n",
              "      <td>[0.0, 0.0019047619047619048, 0.003809523809523...</td>\n",
              "      <td>0.490334</td>\n",
              "    </tr>\n",
              "  </tbody>\n",
              "</table>\n",
              "</div>"
            ],
            "text/plain": [
              "                                                                          fpr  ...       auc\n",
              "classifiers                                                                    ...          \n",
              "GradientBoostingClassifier  [0.0, 0.0, 0.0, 0.002079002079002079, 0.002079...  ...  0.482790\n",
              "LogisticRegression          [0.0, 0.0, 0.0, 0.002079002079002079, 0.002079...  ...  0.506124\n",
              "RandomForestClassifier      [0.0, 0.0, 0.0, 0.0, 0.004158004158004158, 0.0...  ...  0.490334\n",
              "\n",
              "[3 rows x 3 columns]"
            ]
          },
          "metadata": {
            "tags": []
          },
          "execution_count": 161
        }
      ]
    },
    {
      "cell_type": "code",
      "metadata": {
        "id": "ZrTgN8OX-W56",
        "colab_type": "code",
        "colab": {
          "base_uri": "https://localhost:8080/",
          "height": 193
        },
        "outputId": "baa0e264-f3cd-4567-910b-2e05aa4bc5b5"
      },
      "source": [
        "print(\"Results for Cobmined set of features: \")\n",
        "result_table"
      ],
      "execution_count": null,
      "outputs": [
        {
          "output_type": "stream",
          "text": [
            "Results for Cobmined set of features: \n"
          ],
          "name": "stdout"
        },
        {
          "output_type": "execute_result",
          "data": {
            "text/html": [
              "<div>\n",
              "<style scoped>\n",
              "    .dataframe tbody tr th:only-of-type {\n",
              "        vertical-align: middle;\n",
              "    }\n",
              "\n",
              "    .dataframe tbody tr th {\n",
              "        vertical-align: top;\n",
              "    }\n",
              "\n",
              "    .dataframe thead th {\n",
              "        text-align: right;\n",
              "    }\n",
              "</style>\n",
              "<table border=\"1\" class=\"dataframe\">\n",
              "  <thead>\n",
              "    <tr style=\"text-align: right;\">\n",
              "      <th></th>\n",
              "      <th>fpr</th>\n",
              "      <th>tpr</th>\n",
              "      <th>auc</th>\n",
              "    </tr>\n",
              "    <tr>\n",
              "      <th>classifiers</th>\n",
              "      <th></th>\n",
              "      <th></th>\n",
              "      <th></th>\n",
              "    </tr>\n",
              "  </thead>\n",
              "  <tbody>\n",
              "    <tr>\n",
              "      <th>GradientBoostingClassifier</th>\n",
              "      <td>[0.0, 0.0, 0.0, 0.002079002079002079, 0.002079...</td>\n",
              "      <td>[0.0, 0.0019047619047619048, 0.005714285714285...</td>\n",
              "      <td>0.533226</td>\n",
              "    </tr>\n",
              "    <tr>\n",
              "      <th>LogisticRegression</th>\n",
              "      <td>[0.0, 0.002079002079002079, 0.0020790020790020...</td>\n",
              "      <td>[0.0, 0.0, 0.0019047619047619048, 0.0019047619...</td>\n",
              "      <td>0.514979</td>\n",
              "    </tr>\n",
              "    <tr>\n",
              "      <th>RandomForestClassifier</th>\n",
              "      <td>[0.0, 0.0, 0.002079002079002079, 0.00207900207...</td>\n",
              "      <td>[0.0, 0.0038095238095238095, 0.003809523809523...</td>\n",
              "      <td>0.521742</td>\n",
              "    </tr>\n",
              "  </tbody>\n",
              "</table>\n",
              "</div>"
            ],
            "text/plain": [
              "                                                                          fpr  ...       auc\n",
              "classifiers                                                                    ...          \n",
              "GradientBoostingClassifier  [0.0, 0.0, 0.0, 0.002079002079002079, 0.002079...  ...  0.533226\n",
              "LogisticRegression          [0.0, 0.002079002079002079, 0.0020790020790020...  ...  0.514979\n",
              "RandomForestClassifier      [0.0, 0.0, 0.002079002079002079, 0.00207900207...  ...  0.521742\n",
              "\n",
              "[3 rows x 3 columns]"
            ]
          },
          "metadata": {
            "tags": []
          },
          "execution_count": 78
        }
      ]
    },
    {
      "cell_type": "code",
      "metadata": {
        "id": "Uy5Hw_-d74Ek",
        "colab_type": "code",
        "colab": {
          "base_uri": "https://localhost:8080/",
          "height": 193
        },
        "outputId": "1aafa9ba-f932-4fe0-d682-55ab1f2b9c3c"
      },
      "source": [
        "print(\"Models based on Markov Blanket Vars: \")\n",
        "result_table"
      ],
      "execution_count": null,
      "outputs": [
        {
          "output_type": "stream",
          "text": [
            "Models based on Markov Blanket Vars: \n"
          ],
          "name": "stdout"
        },
        {
          "output_type": "execute_result",
          "data": {
            "text/html": [
              "<div>\n",
              "<style scoped>\n",
              "    .dataframe tbody tr th:only-of-type {\n",
              "        vertical-align: middle;\n",
              "    }\n",
              "\n",
              "    .dataframe tbody tr th {\n",
              "        vertical-align: top;\n",
              "    }\n",
              "\n",
              "    .dataframe thead th {\n",
              "        text-align: right;\n",
              "    }\n",
              "</style>\n",
              "<table border=\"1\" class=\"dataframe\">\n",
              "  <thead>\n",
              "    <tr style=\"text-align: right;\">\n",
              "      <th></th>\n",
              "      <th>fpr</th>\n",
              "      <th>tpr</th>\n",
              "      <th>auc</th>\n",
              "    </tr>\n",
              "    <tr>\n",
              "      <th>classifiers</th>\n",
              "      <th></th>\n",
              "      <th></th>\n",
              "      <th></th>\n",
              "    </tr>\n",
              "  </thead>\n",
              "  <tbody>\n",
              "    <tr>\n",
              "      <th>GradientBoostingClassifier</th>\n",
              "      <td>[0.0, 0.0, 0.002079002079002079, 0.00207900207...</td>\n",
              "      <td>[0.0, 0.0019047619047619048, 0.001904761904761...</td>\n",
              "      <td>0.516915</td>\n",
              "    </tr>\n",
              "    <tr>\n",
              "      <th>LogisticRegression</th>\n",
              "      <td>[0.0, 0.0, 0.006237006237006237, 0.00623700623...</td>\n",
              "      <td>[0.0, 0.0019047619047619048, 0.001904761904761...</td>\n",
              "      <td>0.552076</td>\n",
              "    </tr>\n",
              "    <tr>\n",
              "      <th>RandomForestClassifier</th>\n",
              "      <td>[0.0, 0.002079002079002079, 0.0041580041580041...</td>\n",
              "      <td>[0.0, 0.0, 0.0, 0.0019047619047619048, 0.00571...</td>\n",
              "      <td>0.507574</td>\n",
              "    </tr>\n",
              "  </tbody>\n",
              "</table>\n",
              "</div>"
            ],
            "text/plain": [
              "                                                                          fpr  ...       auc\n",
              "classifiers                                                                    ...          \n",
              "GradientBoostingClassifier  [0.0, 0.0, 0.002079002079002079, 0.00207900207...  ...  0.516915\n",
              "LogisticRegression          [0.0, 0.0, 0.006237006237006237, 0.00623700623...  ...  0.552076\n",
              "RandomForestClassifier      [0.0, 0.002079002079002079, 0.0041580041580041...  ...  0.507574\n",
              "\n",
              "[3 rows x 3 columns]"
            ]
          },
          "metadata": {
            "tags": []
          },
          "execution_count": 42
        }
      ]
    },
    {
      "cell_type": "code",
      "metadata": {
        "id": "XCq-crWhKLfi",
        "colab_type": "code",
        "colab": {}
      },
      "source": [
        ""
      ],
      "execution_count": null,
      "outputs": []
    },
    {
      "cell_type": "markdown",
      "metadata": {
        "id": "34fzo5s8yVCw",
        "colab_type": "text"
      },
      "source": [
        "##Ensemble"
      ]
    },
    {
      "cell_type": "code",
      "metadata": {
        "id": "Qv4MlRpNzG7q",
        "colab_type": "code",
        "colab": {}
      },
      "source": [
        "from sklearn.ensemble import VotingClassifier \n",
        "from sklearn.metrics import accuracy_score"
      ],
      "execution_count": null,
      "outputs": []
    },
    {
      "cell_type": "code",
      "metadata": {
        "id": "i2Qpo-QmyXmd",
        "colab_type": "code",
        "colab": {
          "base_uri": "https://localhost:8080/",
          "height": 35
        },
        "outputId": "8d6b2ed5-393a-4bdc-8c02-9027eb64e570"
      },
      "source": [
        "# group / ensemble of models \n",
        "estimator = [] \n",
        "estimator.append(('LR', LogisticRegression(solver ='lbfgs',  max_iter = 200))) \n",
        "estimator.append(('SVC', SVC(gamma ='auto', probability = True))) \n",
        "estimator.append(('DTC', DecisionTreeClassifier())) \n",
        "\n",
        "estimators = [('gb', gbmodel), ('rf', rfmodel), ('lr', logmodel), ('sv', svmodel)]\n",
        "# Voting Classifier with hard voting \n",
        "vot_hard = VotingClassifier(estimators = estimators, voting ='hard') \n",
        "vot_hard.fit(xTrain, yTrain) \n",
        "y_pred = vot_hard.predict(xTest) \n",
        "  \n",
        "# using accuracy_score metric to predict accuracy \n",
        "score = accuracy_score(yTest, y_pred) \n",
        "print(\"Hard Voting Score % d\" % score) \n",
        "  "
      ],
      "execution_count": null,
      "outputs": [
        {
          "output_type": "stream",
          "text": [
            "Hard Voting Score  0\n"
          ],
          "name": "stdout"
        }
      ]
    },
    {
      "cell_type": "code",
      "metadata": {
        "id": "ZaR3gOSnzTDl",
        "colab_type": "code",
        "colab": {
          "base_uri": "https://localhost:8080/",
          "height": 183
        },
        "outputId": "d613b77c-ec81-49c7-e064-7241f3263b48"
      },
      "source": [
        "print(classification_report(yTest, y_pred))"
      ],
      "execution_count": null,
      "outputs": [
        {
          "output_type": "stream",
          "text": [
            "              precision    recall  f1-score   support\n",
            "\n",
            "          -1       0.48      0.47      0.47       481\n",
            "           1       0.53      0.54      0.53       525\n",
            "\n",
            "    accuracy                           0.50      1006\n",
            "   macro avg       0.50      0.50      0.50      1006\n",
            "weighted avg       0.50      0.50      0.50      1006\n",
            "\n"
          ],
          "name": "stdout"
        }
      ]
    },
    {
      "cell_type": "code",
      "metadata": {
        "id": "2OpugAhHznXW",
        "colab_type": "code",
        "colab": {
          "base_uri": "https://localhost:8080/",
          "height": 376
        },
        "outputId": "76a95d99-9ac1-4e90-b476-d8906bfdc98d"
      },
      "source": [
        "gbmodel = GradientBoostingClassifier(random_state=0)\n",
        "rfmodel = RandomForestClassifier(random_state=1234)\n",
        "logmodel = LogisticRegression(random_state=1234)\n",
        "svmodel = SVC(gamma ='auto', probability = True)\n",
        "\n",
        "gbmodel.fit(xTrain, yTrain)\n",
        "rfmodel.fit(xTrain, yTrain)\n",
        "logmodel.fit(xTrain, yTrain)\n",
        "#svmodel.fit(xTrain, yTrain)\n",
        "\n",
        "gpred=gbmodel.predict_proba(xTest)[::,1]\n",
        "rpred = rfmodel.predict_proba(xTest)[::,1]\n",
        "lpred = logmodel.predict_proba(xTest)[::,1]\n",
        "#svpred = svModel.predict(xTest)\n",
        "\n",
        "'''  \n",
        "fpr, tpr, _ = roc_curve(yTest,  yproba)\n",
        "  auc = roc_auc_score(yTest, yproba)\n",
        "  result_table = result_table.append({'classifiers':cls.__class__.__name__,\n",
        "                                        'fpr':fpr, \n",
        "                                        'tpr':tpr, \n",
        "                                        'auc':auc}, ignore_index=True)\n",
        "\n",
        "'''\n",
        "# Set name of the classifiers as index labels\n",
        "result_table.set_index('classifiers', inplace=True)\n",
        "finalpred=(gpred*0.25+rpred*0.25+lpred*0.25+svpred*0.25)\n",
        "\n",
        "# Voting Classifier with hard voting \n",
        "vot_hard = VotingClassifier(estimators = estimator, voting ='hard') \n",
        "vot_hard.fit(xTrain, yTrain) \n",
        "ypred = vot_hard.predict(xTest) \n",
        "\n",
        "\n"
      ],
      "execution_count": null,
      "outputs": [
        {
          "output_type": "error",
          "ename": "KeyError",
          "evalue": "ignored",
          "traceback": [
            "\u001b[0;31m---------------------------------------------------------------------------\u001b[0m",
            "\u001b[0;31mKeyError\u001b[0m                                  Traceback (most recent call last)",
            "\u001b[0;32m<ipython-input-222-9202be7e4292>\u001b[0m in \u001b[0;36m<module>\u001b[0;34m()\u001b[0m\n\u001b[1;32m     24\u001b[0m '''\n\u001b[1;32m     25\u001b[0m \u001b[0;31m# Set name of the classifiers as index labels\u001b[0m\u001b[0;34m\u001b[0m\u001b[0;34m\u001b[0m\u001b[0;34m\u001b[0m\u001b[0m\n\u001b[0;32m---> 26\u001b[0;31m \u001b[0mresult_table\u001b[0m\u001b[0;34m.\u001b[0m\u001b[0mset_index\u001b[0m\u001b[0;34m(\u001b[0m\u001b[0;34m'classifiers'\u001b[0m\u001b[0;34m,\u001b[0m \u001b[0minplace\u001b[0m\u001b[0;34m=\u001b[0m\u001b[0;32mTrue\u001b[0m\u001b[0;34m)\u001b[0m\u001b[0;34m\u001b[0m\u001b[0;34m\u001b[0m\u001b[0m\n\u001b[0m\u001b[1;32m     27\u001b[0m \u001b[0mfinalpred\u001b[0m\u001b[0;34m=\u001b[0m\u001b[0;34m(\u001b[0m\u001b[0mgpred\u001b[0m\u001b[0;34m*\u001b[0m\u001b[0;36m0.25\u001b[0m\u001b[0;34m+\u001b[0m\u001b[0mrpred\u001b[0m\u001b[0;34m*\u001b[0m\u001b[0;36m0.25\u001b[0m\u001b[0;34m+\u001b[0m\u001b[0mlpred\u001b[0m\u001b[0;34m*\u001b[0m\u001b[0;36m0.25\u001b[0m\u001b[0;34m+\u001b[0m\u001b[0msvpred\u001b[0m\u001b[0;34m*\u001b[0m\u001b[0;36m0.25\u001b[0m\u001b[0;34m)\u001b[0m\u001b[0;34m\u001b[0m\u001b[0;34m\u001b[0m\u001b[0m\n\u001b[1;32m     28\u001b[0m \u001b[0;34m\u001b[0m\u001b[0m\n",
            "\u001b[0;32m/usr/local/lib/python3.6/dist-packages/pandas/core/frame.py\u001b[0m in \u001b[0;36mset_index\u001b[0;34m(self, keys, drop, append, inplace, verify_integrity)\u001b[0m\n\u001b[1;32m   4301\u001b[0m \u001b[0;34m\u001b[0m\u001b[0m\n\u001b[1;32m   4302\u001b[0m         \u001b[0;32mif\u001b[0m \u001b[0mmissing\u001b[0m\u001b[0;34m:\u001b[0m\u001b[0;34m\u001b[0m\u001b[0;34m\u001b[0m\u001b[0m\n\u001b[0;32m-> 4303\u001b[0;31m             \u001b[0;32mraise\u001b[0m \u001b[0mKeyError\u001b[0m\u001b[0;34m(\u001b[0m\u001b[0;34mf\"None of {missing} are in the columns\"\u001b[0m\u001b[0;34m)\u001b[0m\u001b[0;34m\u001b[0m\u001b[0;34m\u001b[0m\u001b[0m\n\u001b[0m\u001b[1;32m   4304\u001b[0m \u001b[0;34m\u001b[0m\u001b[0m\n\u001b[1;32m   4305\u001b[0m         \u001b[0;32mif\u001b[0m \u001b[0minplace\u001b[0m\u001b[0;34m:\u001b[0m\u001b[0;34m\u001b[0m\u001b[0;34m\u001b[0m\u001b[0m\n",
            "\u001b[0;31mKeyError\u001b[0m: \"None of ['classifiers'] are in the columns\""
          ]
        }
      ]
    },
    {
      "cell_type": "code",
      "metadata": {
        "id": "Ig7nOJaF6LEM",
        "colab_type": "code",
        "colab": {}
      },
      "source": [
        "finalpred.astype('int')"
      ],
      "execution_count": null,
      "outputs": []
    },
    {
      "cell_type": "code",
      "metadata": {
        "id": "ex7rN7Rwzz9S",
        "colab_type": "code",
        "colab": {}
      },
      "source": [
        "print('Performance of ')\n",
        "print(classification_report(yTest, finalpred.astype('int')))"
      ],
      "execution_count": null,
      "outputs": []
    },
    {
      "cell_type": "markdown",
      "metadata": {
        "id": "QlJzaKxAqS_N",
        "colab_type": "text"
      },
      "source": [
        "## Logistic Regression"
      ]
    },
    {
      "cell_type": "code",
      "metadata": {
        "id": "gHPNcj9HAItl",
        "colab_type": "code",
        "colab": {}
      },
      "source": [
        "logmodel = LogisticRegression(random_state=0, max_iter=1000)\n",
        "logmodel = logmodel.fit(xTrain,yTrain)\n",
        "yproba = logmodel.predict_proba(xTest)[::,1]"
      ],
      "execution_count": null,
      "outputs": []
    },
    {
      "cell_type": "code",
      "metadata": {
        "id": "R1cTI9d_zNiB",
        "colab_type": "code",
        "colab": {
          "base_uri": "https://localhost:8080/",
          "height": 54
        },
        "outputId": "1b59de92-31d4-4e29-9326-bcf52c891322"
      },
      "source": [
        "logmodel.coef_"
      ],
      "execution_count": null,
      "outputs": [
        {
          "output_type": "execute_result",
          "data": {
            "text/plain": [
              "array([[ 0.01285903,  0.01125236, -0.06415214,  0.01052175,  0.01175688,\n",
              "         0.00055664]])"
            ]
          },
          "metadata": {
            "tags": []
          },
          "execution_count": 34
        }
      ]
    },
    {
      "cell_type": "code",
      "metadata": {
        "id": "MY4y-yjWzRo5",
        "colab_type": "code",
        "colab": {
          "base_uri": "https://localhost:8080/",
          "height": 183
        },
        "outputId": "9ca9d1cd-9396-4a76-c6f7-1c6ba9b0026c"
      },
      "source": [
        "# LogModel's prediction for Direction\n",
        "pred = logmodel.predict(xTest)\n",
        "print(classification_report(yTest, pred))"
      ],
      "execution_count": null,
      "outputs": [
        {
          "output_type": "stream",
          "text": [
            "              precision    recall  f1-score   support\n",
            "\n",
            "          -1       0.42      0.02      0.04       481\n",
            "           1       0.52      0.97      0.68       525\n",
            "\n",
            "    accuracy                           0.52      1006\n",
            "   macro avg       0.47      0.50      0.36      1006\n",
            "weighted avg       0.47      0.52      0.37      1006\n",
            "\n"
          ],
          "name": "stdout"
        }
      ]
    },
    {
      "cell_type": "code",
      "metadata": {
        "id": "EndrzAhazdwz",
        "colab_type": "code",
        "colab": {
          "base_uri": "https://localhost:8080/",
          "height": 183
        },
        "outputId": "ac36a4a1-8ab7-4fbe-cd8f-738020c1b025"
      },
      "source": [
        "# LogModel's prediction for UP & Down Directions\n",
        "pred = logmodel.predict(xTest)\n",
        "print(classification_report(yTest, pred))"
      ],
      "execution_count": null,
      "outputs": [
        {
          "output_type": "stream",
          "text": [
            "              precision    recall  f1-score   support\n",
            "\n",
            "          -1       0.57      0.09      0.16       481\n",
            "           1       0.53      0.94      0.68       525\n",
            "\n",
            "    accuracy                           0.53      1006\n",
            "   macro avg       0.55      0.51      0.42      1006\n",
            "weighted avg       0.55      0.53      0.43      1006\n",
            "\n"
          ],
          "name": "stdout"
        }
      ]
    },
    {
      "cell_type": "markdown",
      "metadata": {
        "id": "21nouN9y09so",
        "colab_type": "text"
      },
      "source": [
        "## Train Xgboost"
      ]
    },
    {
      "cell_type": "code",
      "metadata": {
        "id": "ujIyW2K_0EbY",
        "colab_type": "code",
        "colab": {
          "base_uri": "https://localhost:8080/",
          "height": 72
        },
        "outputId": "0c134dea-811c-494f-d095-4df5f09c295c"
      },
      "source": [
        ""
      ],
      "execution_count": null,
      "outputs": [
        {
          "output_type": "stream",
          "text": [
            "Requirement already satisfied: xgboost in /usr/local/lib/python3.6/dist-packages (0.90)\n",
            "Requirement already satisfied: numpy in /usr/local/lib/python3.6/dist-packages (from xgboost) (1.18.5)\n",
            "Requirement already satisfied: scipy in /usr/local/lib/python3.6/dist-packages (from xgboost) (1.4.1)\n"
          ],
          "name": "stdout"
        }
      ]
    },
    {
      "cell_type": "code",
      "metadata": {
        "id": "tuT--gzC1qTZ",
        "colab_type": "code",
        "colab": {
          "base_uri": "https://localhost:8080/",
          "height": 146
        },
        "outputId": "224276ea-0332-45e9-9b4b-9720a36da60a"
      },
      "source": [
        "import xgboost as xgb\n",
        "from xgboost import XGBClassifier\n",
        "Xgmodel = XGBClassifier(n_estimators=1000) \n",
        "Xgmodel.fit(xTrain, yTrain)"
      ],
      "execution_count": null,
      "outputs": [
        {
          "output_type": "execute_result",
          "data": {
            "text/plain": [
              "XGBClassifier(base_score=0.5, booster='gbtree', colsample_bylevel=1,\n",
              "              colsample_bynode=1, colsample_bytree=1, gamma=0,\n",
              "              learning_rate=0.1, max_delta_step=0, max_depth=3,\n",
              "              min_child_weight=1, missing=None, n_estimators=1000, n_jobs=1,\n",
              "              nthread=None, objective='binary:logistic', random_state=0,\n",
              "              reg_alpha=0, reg_lambda=1, scale_pos_weight=1, seed=None,\n",
              "              silent=None, subsample=1, verbosity=1)"
            ]
          },
          "metadata": {
            "tags": []
          },
          "execution_count": 43
        }
      ]
    },
    {
      "cell_type": "code",
      "metadata": {
        "id": "xreLQha22C2b",
        "colab_type": "code",
        "colab": {
          "base_uri": "https://localhost:8080/",
          "height": 183
        },
        "outputId": "d66abcbe-8697-4553-e485-d2623a77728a"
      },
      "source": [
        "pred = Xgmodel.predict(xTest)\n",
        "print(classification_report(yTest, pred))"
      ],
      "execution_count": null,
      "outputs": [
        {
          "output_type": "stream",
          "text": [
            "              precision    recall  f1-score   support\n",
            "\n",
            "          -1       0.50      0.66      0.57       481\n",
            "           1       0.56      0.40      0.47       525\n",
            "\n",
            "    accuracy                           0.52      1006\n",
            "   macro avg       0.53      0.53      0.52      1006\n",
            "weighted avg       0.53      0.52      0.52      1006\n",
            "\n"
          ],
          "name": "stdout"
        }
      ]
    },
    {
      "cell_type": "code",
      "metadata": {
        "id": "y9JxtzC6_uOH",
        "colab_type": "code",
        "colab": {
          "base_uri": "https://localhost:8080/",
          "height": 202
        },
        "outputId": "7e15545e-5e64-4561-b6c6-cfb2e6a34005"
      },
      "source": [
        "print(features)\n",
        "pred = Xgmodel.predict(xTest)\n",
        "print(classification_report(yTest, pred))"
      ],
      "execution_count": null,
      "outputs": [
        {
          "output_type": "stream",
          "text": [
            "['Open', 'OC_Ratio', 'SMA1_ratio', 'PK_ratio', 'SMA3', 'lag_2', 'PA_ratio', 'lag_7']\n",
            "              precision    recall  f1-score   support\n",
            "\n",
            "          -1       0.50      0.66      0.57       481\n",
            "           1       0.56      0.40      0.47       525\n",
            "\n",
            "    accuracy                           0.52      1006\n",
            "   macro avg       0.53      0.53      0.52      1006\n",
            "weighted avg       0.53      0.52      0.52      1006\n",
            "\n"
          ],
          "name": "stdout"
        }
      ]
    },
    {
      "cell_type": "code",
      "metadata": {
        "id": "A2REBetRItOk",
        "colab_type": "code",
        "colab": {
          "base_uri": "https://localhost:8080/",
          "height": 312
        },
        "outputId": "6e04da51-1d17-4d36-a8a3-da9328ee6946"
      },
      "source": [
        "from sklearn.metrics import f1_score\n",
        "model = Xgmodel\n",
        "X = xTest\n",
        "Y = yTest\n",
        "predy=model.predict(X)\n",
        "\n",
        "proby=model.predict_proba(X) \n",
        "# probs_y is a 2-D array of probability of being labeled as 0 (first column of array) vs 1 (2nd column in array)\n",
        "\n",
        "from sklearn.metrics import precision_recall_curve\n",
        "precision, recall, thresholds = precision_recall_curve(Y, proby[:, \n",
        "1]) \n",
        "   #retrieve probability of being 1(in second column of probsy)\n",
        "pr_auc = metrics.auc(recall, precision)\n",
        "\n",
        "plt.title(\"Precision-Recall vs Threshold Chart\")\n",
        "plt.plot(thresholds, precision[: -1], \"b--\", label=\"Precision\")\n",
        "plt.plot(thresholds, recall[: -1], \"r--\", label=\"Recall\")\n",
        "plt.ylabel(\"Precision, Recall\")\n",
        "plt.xlabel(\"Threshold\")\n",
        "plt.legend(loc=\"lower left\")\n",
        "plt.ylim([0,1])"
      ],
      "execution_count": null,
      "outputs": [
        {
          "output_type": "execute_result",
          "data": {
            "text/plain": [
              "(0.0, 1.0)"
            ]
          },
          "metadata": {
            "tags": []
          },
          "execution_count": 128
        },
        {
          "output_type": "display_data",
          "data": {
            "image/png": "[encoded data removed]",
            "text/plain": [
              "<Figure size 432x288 with 1 Axes>"
            ]
          },
          "metadata": {
            "tags": [],
            "needs_background": "light"
          }
        }
      ]
    },
    {
      "cell_type": "code",
      "metadata": {
        "id": "IkIn3XQ-I0c-",
        "colab_type": "code",
        "colab": {
          "base_uri": "https://localhost:8080/",
          "height": 111
        },
        "outputId": "92fe0f9d-d95a-4414-8b72-ea00ed294e8c"
      },
      "source": [
        "f1_scores = 2*recall*precision/(recall+precision)\n",
        "best_tresh = thresholds[np.argmax(f1_scores)]\n",
        "print('Best threshold: ', best_tresh)\n",
        "#print('Best F1-Score: ', np.max(f1_scores))"
      ],
      "execution_count": null,
      "outputs": [
        {
          "output_type": "stream",
          "text": [
            "Best threshold:  0.9947242\n",
            "Best F1-Score:  nan\n"
          ],
          "name": "stdout"
        },
        {
          "output_type": "stream",
          "text": [
            "/usr/local/lib/python3.6/dist-packages/ipykernel_launcher.py:1: RuntimeWarning: invalid value encountered in true_divide\n",
            "  \"\"\"Entry point for launching an IPython kernel.\n"
          ],
          "name": "stderr"
        }
      ]
    },
    {
      "cell_type": "markdown",
      "metadata": {
        "id": "fRD5ThvgI2CK",
        "colab_type": "text"
      },
      "source": [
        "##Gradient Boost Model"
      ]
    },
    {
      "cell_type": "code",
      "metadata": {
        "id": "Dh7YbbJA2RTf",
        "colab_type": "code",
        "colab": {}
      },
      "source": [
        "gbmodel = GradientBoostingClassifier(random_state=0, n_estimators=1000, max_depth=5)\n",
        "gbmodel.fit(xTrain,yTrain)\n"
      ],
      "execution_count": null,
      "outputs": []
    },
    {
      "cell_type": "code",
      "metadata": {
        "id": "9V9tSumZJMZ0",
        "colab_type": "code",
        "colab": {
          "base_uri": "https://localhost:8080/",
          "height": 183
        },
        "outputId": "c6fa3ce9-ab1a-4c72-943f-0159533dff50"
      },
      "source": [
        "# GBM prediction for Direction with 1,000 Trees\n",
        "pred = gbmodel.predict(xTest)\n",
        "print(classification_report(yTest, pred))"
      ],
      "execution_count": null,
      "outputs": [
        {
          "output_type": "stream",
          "text": [
            "              precision    recall  f1-score   support\n",
            "\n",
            "          -1       0.50      0.41      0.45       481\n",
            "           1       0.54      0.63      0.58       525\n",
            "\n",
            "    accuracy                           0.52      1006\n",
            "   macro avg       0.52      0.52      0.52      1006\n",
            "weighted avg       0.52      0.52      0.52      1006\n",
            "\n"
          ],
          "name": "stdout"
        }
      ]
    },
    {
      "cell_type": "code",
      "metadata": {
        "id": "k0tOgY2uzkos",
        "colab_type": "code",
        "colab": {
          "base_uri": "https://localhost:8080/",
          "height": 183
        },
        "outputId": "5c4ee27d-2763-4ba3-a1ff-28de4b57b95f"
      },
      "source": [
        "# GBM prediction for Direction with 10,000 Trees\n",
        "pred = gbmodel.predict(xTest)\n",
        "print(classification_report(yTest, pred))"
      ],
      "execution_count": null,
      "outputs": [
        {
          "output_type": "stream",
          "text": [
            "              precision    recall  f1-score   support\n",
            "\n",
            "          -1       0.49      0.45      0.47       481\n",
            "           1       0.53      0.57      0.55       525\n",
            "\n",
            "    accuracy                           0.52      1006\n",
            "   macro avg       0.51      0.51      0.51      1006\n",
            "weighted avg       0.51      0.52      0.51      1006\n",
            "\n"
          ],
          "name": "stdout"
        }
      ]
    },
    {
      "cell_type": "code",
      "metadata": {
        "id": "BJiPQH-bgkAC",
        "colab_type": "code",
        "colab": {
          "base_uri": "https://localhost:8080/",
          "height": 312
        },
        "outputId": "c694667b-035d-43cb-cf97-85f32ae82234"
      },
      "source": [
        "from sklearn.metrics import f1_score\n",
        "model = gbmodel\n",
        "X = xTest\n",
        "Y = yTest\n",
        "predy=model.predict(X)\n",
        "\n",
        "proby=model.predict_proba(X) \n",
        "# probs_y is a 2-D array of probability of being labeled as 0 (first column of array) vs 1 (2nd column in array)\n",
        "\n",
        "from sklearn.metrics import precision_recall_curve\n",
        "precision, recall, thresholds = precision_recall_curve(Y, proby[:, \n",
        "1]) \n",
        "   #retrieve probability of being 1(in second column of probsy)\n",
        "pr_auc = metrics.auc(recall, precision)\n",
        "\n",
        "plt.title(\"Precision-Recall vs Threshold Chart\")\n",
        "plt.plot(thresholds, precision[: -1], \"b--\", label=\"Precision\")\n",
        "plt.plot(thresholds, recall[: -1], \"r--\", label=\"Recall\")\n",
        "plt.ylabel(\"Precision, Recall\")\n",
        "plt.xlabel(\"Threshold\")\n",
        "plt.legend(loc=\"lower left\")\n",
        "plt.ylim([0,1])"
      ],
      "execution_count": null,
      "outputs": [
        {
          "output_type": "execute_result",
          "data": {
            "text/plain": [
              "(0.0, 1.0)"
            ]
          },
          "metadata": {
            "tags": []
          },
          "execution_count": 80
        },
        {
          "output_type": "display_data",
          "data": {
            "image/png": "[encoded data removed]",
            "text/plain": [
              "<Figure size 432x288 with 1 Axes>"
            ]
          },
          "metadata": {
            "tags": [],
            "needs_background": "light"
          }
        }
      ]
    },
    {
      "cell_type": "code",
      "metadata": {
        "id": "AM0NTv05gxfp",
        "colab_type": "code",
        "colab": {
          "base_uri": "https://localhost:8080/",
          "height": 54
        },
        "outputId": "0416ecbd-f825-4546-f9de-0982c6d40fdc"
      },
      "source": [
        "f1_scores = 2*recall*precision/(recall+precision)\n",
        "best_tresh = thresholds[np.argmax(f1_scores)]\n",
        "print('Best threshold: ', best_tresh)\n",
        "print('Best F1-Score: ', np.max(f1_scores))"
      ],
      "execution_count": null,
      "outputs": [
        {
          "output_type": "stream",
          "text": [
            "Best threshold:  0.03358621544642713\n",
            "Best F1-Score:  0.6894736842105263\n"
          ],
          "name": "stdout"
        }
      ]
    },
    {
      "cell_type": "code",
      "metadata": {
        "id": "LGd-xSy5g6k1",
        "colab_type": "code",
        "colab": {
          "base_uri": "https://localhost:8080/",
          "height": 296
        },
        "outputId": "1f26c72d-496f-4997-dde5-b5622e39b5e1"
      },
      "source": [
        "tresh = 0.03358\n",
        "y_pred = (model.predict_proba(X)[:,1] >= tresh).astype(bool)\n",
        "prmetrics = classification_report(Y, y_pred)\n",
        "print(prmetrics)"
      ],
      "execution_count": null,
      "outputs": [
        {
          "output_type": "stream",
          "text": [
            "              precision    recall  f1-score   support\n",
            "\n",
            "          -1       0.00      0.00      0.00       481\n",
            "           0       0.00      0.00      0.00         0\n",
            "           1       0.53      1.00      0.69       525\n",
            "\n",
            "    accuracy                           0.52      1006\n",
            "   macro avg       0.18      0.33      0.23      1006\n",
            "weighted avg       0.27      0.52      0.36      1006\n",
            "\n"
          ],
          "name": "stdout"
        },
        {
          "output_type": "stream",
          "text": [
            "/usr/local/lib/python3.6/dist-packages/sklearn/metrics/_classification.py:1272: UndefinedMetricWarning: Precision and F-score are ill-defined and being set to 0.0 in labels with no predicted samples. Use `zero_division` parameter to control this behavior.\n",
            "  _warn_prf(average, modifier, msg_start, len(result))\n",
            "/usr/local/lib/python3.6/dist-packages/sklearn/metrics/_classification.py:1272: UndefinedMetricWarning: Recall and F-score are ill-defined and being set to 0.0 in labels with no true samples. Use `zero_division` parameter to control this behavior.\n",
            "  _warn_prf(average, modifier, msg_start, len(result))\n"
          ],
          "name": "stderr"
        }
      ]
    },
    {
      "cell_type": "code",
      "metadata": {
        "id": "Yfqrjfqw1CAT",
        "colab_type": "code",
        "colab": {}
      },
      "source": [
        "df = train\n",
        "gmodel = XGBClassifier()\n",
        "gmodel.fit(xTrain,yTrain)\n",
        "print(gmodel)"
      ],
      "execution_count": null,
      "outputs": []
    },
    {
      "cell_type": "markdown",
      "metadata": {
        "id": "FeeRUFaSMscT",
        "colab_type": "text"
      },
      "source": [
        "## Train RF Model"
      ]
    },
    {
      "cell_type": "code",
      "metadata": {
        "id": "NcLQhU1SMtXE",
        "colab_type": "code",
        "colab": {
          "base_uri": "https://localhost:8080/",
          "height": 165
        },
        "outputId": "9f0ee95c-ce64-4832-84bc-f4dbc448f8d4"
      },
      "source": [
        "df = train\n",
        "RFmodel = RandomForestClassifier(random_state=1, n_estimators = 10000, oob_score=True) #Enables using out-of-bag sample set for validation\n",
        "RFmodel.fit(xTrain, yTrain)"
      ],
      "execution_count": null,
      "outputs": [
        {
          "output_type": "execute_result",
          "data": {
            "text/plain": [
              "RandomForestClassifier(bootstrap=True, ccp_alpha=0.0, class_weight=None,\n",
              "                       criterion='gini', max_depth=None, max_features='auto',\n",
              "                       max_leaf_nodes=None, max_samples=None,\n",
              "                       min_impurity_decrease=0.0, min_impurity_split=None,\n",
              "                       min_samples_leaf=1, min_samples_split=2,\n",
              "                       min_weight_fraction_leaf=0.0, n_estimators=10000,\n",
              "                       n_jobs=None, oob_score=True, random_state=1, verbose=0,\n",
              "                       warm_start=False)"
            ]
          },
          "metadata": {
            "tags": []
          },
          "execution_count": 64
        }
      ]
    },
    {
      "cell_type": "code",
      "metadata": {
        "id": "rAO6CJ-rAYIv",
        "colab_type": "code",
        "colab": {
          "base_uri": "https://localhost:8080/",
          "height": 202
        },
        "outputId": "7cb4eb77-1277-4aaa-a97a-030f211065f3"
      },
      "source": [
        "print(features, 'for RF model')\n",
        "# 10,000 Tree RF Model's prediction for Direction\n",
        "pred = RFmodel.predict(xTest)\n",
        "print(classification_report(yTest, pred))"
      ],
      "execution_count": null,
      "outputs": [
        {
          "output_type": "stream",
          "text": [
            "['lag_15', 'Op_OSMA1', 'OC_Ratio'] for RF model\n",
            "              precision    recall  f1-score   support\n",
            "\n",
            "          -1       0.49      0.44      0.46       481\n",
            "           1       0.53      0.57      0.55       525\n",
            "\n",
            "    accuracy                           0.51      1006\n",
            "   macro avg       0.51      0.51      0.51      1006\n",
            "weighted avg       0.51      0.51      0.51      1006\n",
            "\n"
          ],
          "name": "stdout"
        }
      ]
    },
    {
      "cell_type": "code",
      "metadata": {
        "id": "BakiWWgDJL5z",
        "colab_type": "code",
        "colab": {
          "base_uri": "https://localhost:8080/",
          "height": 202
        },
        "outputId": "c5067a31-5fe7-4d3e-f0ac-096597f525cd"
      },
      "source": [
        "print(features, 'for RF model')\n",
        "# 10,000 Tree RF Model's prediction for Direction\n",
        "pred = RFmodel.predict(xTest)\n",
        "print(classification_report(yTest, pred))"
      ],
      "execution_count": null,
      "outputs": [
        {
          "output_type": "stream",
          "text": [
            "['Open', 'lag_7'] for RF model\n",
            "              precision    recall  f1-score   support\n",
            "\n",
            "          -1       0.49      0.42      0.45       481\n",
            "           1       0.53      0.60      0.56       525\n",
            "\n",
            "    accuracy                           0.51      1006\n",
            "   macro avg       0.51      0.51      0.50      1006\n",
            "weighted avg       0.51      0.51      0.51      1006\n",
            "\n"
          ],
          "name": "stdout"
        }
      ]
    },
    {
      "cell_type": "code",
      "metadata": {
        "id": "TE105NEiwjEN",
        "colab_type": "code",
        "colab": {
          "base_uri": "https://localhost:8080/",
          "height": 183
        },
        "outputId": "7936b915-db04-440b-99d1-160cefed44b8"
      },
      "source": [
        "# 10,000 Tree RF Model's prediction for Direction\n",
        "pred = RFmodel.predict(xTest)\n",
        "print(classification_report(yTest, pred))"
      ],
      "execution_count": null,
      "outputs": [
        {
          "output_type": "stream",
          "text": [
            "              precision    recall  f1-score   support\n",
            "\n",
            "          -1       0.48      1.00      0.65       481\n",
            "           1       1.00      0.01      0.01       525\n",
            "\n",
            "    accuracy                           0.48      1006\n",
            "   macro avg       0.74      0.50      0.33      1006\n",
            "weighted avg       0.75      0.48      0.32      1006\n",
            "\n"
          ],
          "name": "stdout"
        }
      ]
    },
    {
      "cell_type": "code",
      "metadata": {
        "id": "HxlTUx1zJw59",
        "colab_type": "code",
        "colab": {
          "base_uri": "https://localhost:8080/",
          "height": 183
        },
        "outputId": "61cf7744-6dfc-4bd3-960e-37c8a7ea2ace"
      },
      "source": [
        "# RF Model's prediction for UpDirection\n",
        "pred = RFmodel.predict(xTest)\n",
        "print(classification_report(yTest, pred))"
      ],
      "execution_count": null,
      "outputs": [
        {
          "output_type": "stream",
          "text": [
            "              precision    recall  f1-score   support\n",
            "\n",
            "          -1       0.49      0.53      0.51       481\n",
            "           1       0.54      0.50      0.52       525\n",
            "\n",
            "    accuracy                           0.52      1006\n",
            "   macro avg       0.52      0.52      0.52      1006\n",
            "weighted avg       0.52      0.52      0.52      1006\n",
            "\n"
          ],
          "name": "stdout"
        }
      ]
    },
    {
      "cell_type": "code",
      "metadata": {
        "id": "oJGRLDP9SxAs",
        "colab_type": "code",
        "colab": {
          "base_uri": "https://localhost:8080/",
          "height": 203
        },
        "outputId": "4c11e85b-782f-4f47-f68d-144c4de92330"
      },
      "source": [
        "model = RFmodel\n",
        "test['predict'] = model.predict(xTest)\n",
        "print(\"Training score:\", model.score(xTrain, yTrain))\n",
        "print(\"Out-of-bag score:\", model.oob_score_)\n",
        "print(\"Testing score:\", model.score(xTest, yTest))"
      ],
      "execution_count": null,
      "outputs": [
        {
          "output_type": "stream",
          "text": [
            "/usr/local/lib/python3.6/dist-packages/ipykernel_launcher.py:2: SettingWithCopyWarning: \n",
            "A value is trying to be set on a copy of a slice from a DataFrame.\n",
            "Try using .loc[row_indexer,col_indexer] = value instead\n",
            "\n",
            "See the caveats in the documentation: https://pandas.pydata.org/pandas-docs/stable/user_guide/indexing.html#returning-a-view-versus-a-copy\n",
            "  \n"
          ],
          "name": "stderr"
        },
        {
          "output_type": "stream",
          "text": [
            "Training score: 0.9991351974632459\n",
            "Out-of-bag score: 0.5110982992216777\n",
            "Testing score: 0.510934393638171\n"
          ],
          "name": "stdout"
        }
      ]
    },
    {
      "cell_type": "code",
      "metadata": {
        "id": "zTx8X6q3Mty5",
        "colab_type": "code",
        "colab": {
          "base_uri": "https://localhost:8080/",
          "height": 247
        },
        "outputId": "bb0989c7-3345-46ba-c149-9eeb0859508d"
      },
      "source": [
        "model = RFmodel\n",
        "df = test\n",
        "df['predict'] = model.predict(xTest)\n",
        "print(\"Training score:\", model.score(xTrain, yTrain))\n",
        "print(\"Out-of-bag score:\", model.oob_score_)\n",
        "print(\"Testing score:\", model.score(xTest, yTest))"
      ],
      "execution_count": null,
      "outputs": [
        {
          "output_type": "error",
          "ename": "NameError",
          "evalue": "ignored",
          "traceback": [
            "\u001b[0;31m---------------------------------------------------------------------------\u001b[0m",
            "\u001b[0;31mNameError\u001b[0m                                 Traceback (most recent call last)",
            "\u001b[0;32m<ipython-input-1-7c2bc80f1343>\u001b[0m in \u001b[0;36m<module>\u001b[0;34m()\u001b[0m\n\u001b[0;32m----> 1\u001b[0;31m \u001b[0mmodel\u001b[0m \u001b[0;34m=\u001b[0m \u001b[0mRFmodel\u001b[0m\u001b[0;34m\u001b[0m\u001b[0;34m\u001b[0m\u001b[0m\n\u001b[0m\u001b[1;32m      2\u001b[0m \u001b[0mdf\u001b[0m \u001b[0;34m=\u001b[0m \u001b[0mtest\u001b[0m\u001b[0;34m\u001b[0m\u001b[0;34m\u001b[0m\u001b[0m\n\u001b[1;32m      3\u001b[0m \u001b[0mdf\u001b[0m\u001b[0;34m[\u001b[0m\u001b[0;34m'predict'\u001b[0m\u001b[0;34m]\u001b[0m \u001b[0;34m=\u001b[0m \u001b[0mmodel\u001b[0m\u001b[0;34m.\u001b[0m\u001b[0mpredict\u001b[0m\u001b[0;34m(\u001b[0m\u001b[0mxTest\u001b[0m\u001b[0;34m)\u001b[0m\u001b[0;34m\u001b[0m\u001b[0;34m\u001b[0m\u001b[0m\n\u001b[1;32m      4\u001b[0m \u001b[0mprint\u001b[0m\u001b[0;34m(\u001b[0m\u001b[0;34m\"Training score:\"\u001b[0m\u001b[0;34m,\u001b[0m \u001b[0mmodel\u001b[0m\u001b[0;34m.\u001b[0m\u001b[0mscore\u001b[0m\u001b[0;34m(\u001b[0m\u001b[0mxTrain\u001b[0m\u001b[0;34m,\u001b[0m \u001b[0myTrain\u001b[0m\u001b[0;34m)\u001b[0m\u001b[0;34m)\u001b[0m\u001b[0;34m\u001b[0m\u001b[0;34m\u001b[0m\u001b[0m\n\u001b[1;32m      5\u001b[0m \u001b[0mprint\u001b[0m\u001b[0;34m(\u001b[0m\u001b[0;34m\"Out-of-bag score:\"\u001b[0m\u001b[0;34m,\u001b[0m \u001b[0mmodel\u001b[0m\u001b[0;34m.\u001b[0m\u001b[0moob_score_\u001b[0m\u001b[0;34m)\u001b[0m\u001b[0;34m\u001b[0m\u001b[0;34m\u001b[0m\u001b[0m\n",
            "\u001b[0;31mNameError\u001b[0m: name 'RFmodel' is not defined"
          ]
        }
      ]
    },
    {
      "cell_type": "code",
      "metadata": {
        "id": "8DZO3vi3oPM-",
        "colab_type": "code",
        "colab": {
          "base_uri": "https://localhost:8080/",
          "height": 312
        },
        "outputId": "a9e7e323-41ed-4bd1-d0dc-c5309323b2a4"
      },
      "source": [
        "from sklearn.metrics import f1_score\n",
        "model = RFmodel\n",
        "X = xTest\n",
        "Y = yTest\n",
        "predy=model.predict(X)\n",
        "\n",
        "proby=model.predict_proba(X) \n",
        "# probs_y is a 2-D array of probability of being labeled as 0 (first column of array) vs 1 (2nd column in array)\n",
        "\n",
        "from sklearn.metrics import precision_recall_curve\n",
        "precision, recall, thresholds = precision_recall_curve(Y, proby[:, \n",
        "1]) \n",
        "   #retrieve probability of being 1(in second column of probsy)\n",
        "pr_auc = metrics.auc(recall, precision)\n",
        "\n",
        "plt.title(\"Precision-Recall vs Threshold Chart\")\n",
        "plt.plot(thresholds, precision[: -1], \"b--\", label=\"Precision\")\n",
        "plt.plot(thresholds, recall[: -1], \"r--\", label=\"Recall\")\n",
        "plt.ylabel(\"Precision, Recall\")\n",
        "plt.xlabel(\"Threshold\")\n",
        "plt.legend(loc=\"lower left\")\n",
        "plt.ylim([0,1])"
      ],
      "execution_count": null,
      "outputs": [
        {
          "output_type": "execute_result",
          "data": {
            "text/plain": [
              "(0.0, 1.0)"
            ]
          },
          "metadata": {
            "tags": []
          },
          "execution_count": 60
        },
        {
          "output_type": "display_data",
          "data": {
            "image/png": "[encoded data removed]",
            "text/plain": [
              "<Figure size 432x288 with 1 Axes>"
            ]
          },
          "metadata": {
            "tags": [],
            "needs_background": "light"
          }
        }
      ]
    },
    {
      "cell_type": "markdown",
      "metadata": {
        "id": "UeBCANEiNI6l",
        "colab_type": "text"
      },
      "source": [
        "### Assess Feature Importance"
      ]
    },
    {
      "cell_type": "code",
      "metadata": {
        "id": "s0qUB14SXiiI",
        "colab_type": "code",
        "colab": {}
      },
      "source": [
        "feature_imp = pd.Series(model.feature_importances_, index=features).sort_values(ascending=False)\n",
        "feature_imp"
      ],
      "execution_count": null,
      "outputs": []
    },
    {
      "cell_type": "code",
      "metadata": {
        "id": "HFd91k_MNKPP",
        "colab_type": "code",
        "colab": {}
      },
      "source": [
        "#feature_imp=[]\n",
        "feature_imp = pd.Series(model.feature_importances_, index=features).sort_values(ascending=False)\n",
        "feature_imp"
      ],
      "execution_count": null,
      "outputs": []
    },
    {
      "cell_type": "code",
      "metadata": {
        "id": "rptjCGENNKoN",
        "colab_type": "code",
        "colab": {}
      },
      "source": [
        "import seaborn as sns\n",
        "%matplotlib inline\n",
        "# Creating a bar plot\n",
        "sns.barplot(x=feature_imp, y=feature_imp.index)\n",
        "# Add labels to your graph\n",
        "plt.xlabel('Feature Importance Score')\n",
        "plt.ylabel('Features')\n",
        "plt.title(\"Visualizing Important Features\")\n",
        "plt.legend()\n",
        "plt.show()"
      ],
      "execution_count": null,
      "outputs": []
    },
    {
      "cell_type": "markdown",
      "metadata": {
        "id": "iP0JTLDqQvU4",
        "colab_type": "text"
      },
      "source": [
        "##Model Validation"
      ]
    },
    {
      "cell_type": "code",
      "metadata": {
        "id": "-AamVYeIR7dh",
        "colab_type": "code",
        "colab": {}
      },
      "source": [
        "from sklearn import metrics\n",
        "from sklearn.metrics import confusion_matrix"
      ],
      "execution_count": null,
      "outputs": []
    },
    {
      "cell_type": "code",
      "metadata": {
        "id": "v3l_4l8MR79e",
        "colab_type": "code",
        "colab": {
          "base_uri": "https://localhost:8080/",
          "height": 72
        },
        "outputId": "903be9bd-2b44-4605-f30e-77275026605f"
      },
      "source": [
        "\n",
        "target_predict = model.predict(xTest)\n",
        "confusion = confusion_matrix(yTest, target_predict)\n",
        "\n",
        "print(\"Accuracy:\",metrics.accuracy_score(yTest, pred))\n",
        "print(confusion)"
      ],
      "execution_count": null,
      "outputs": [
        {
          "output_type": "stream",
          "text": [
            "Accuracy: 0.5198807157057654\n",
            "[[218 263]\n",
            " [217 308]]\n"
          ],
          "name": "stdout"
        }
      ]
    },
    {
      "cell_type": "code",
      "metadata": {
        "id": "yqcOhmfDSA08",
        "colab_type": "code",
        "colab": {
          "base_uri": "https://localhost:8080/",
          "height": 400
        },
        "outputId": "40b5720c-938f-4edc-fd42-c0f3e1ae1fb6"
      },
      "source": [
        "model = logmodel\n",
        "df=test\n",
        "df['predict'] = model.predict(xTest)\n",
        "df['strat']= df['predict']* df['return']\n",
        "(df[target]==df['predict']).value_counts()/df.shape[0]"
      ],
      "execution_count": null,
      "outputs": [
        {
          "output_type": "error",
          "ename": "ValueError",
          "evalue": "ignored",
          "traceback": [
            "\u001b[0;31m---------------------------------------------------------------------------\u001b[0m",
            "\u001b[0;31mValueError\u001b[0m                                Traceback (most recent call last)",
            "\u001b[0;32m<ipython-input-138-fb0fcb4c792c>\u001b[0m in \u001b[0;36m<module>\u001b[0;34m()\u001b[0m\n\u001b[1;32m      1\u001b[0m \u001b[0mmodel\u001b[0m \u001b[0;34m=\u001b[0m \u001b[0mlogmodel\u001b[0m\u001b[0;34m\u001b[0m\u001b[0;34m\u001b[0m\u001b[0m\n\u001b[1;32m      2\u001b[0m \u001b[0mdf\u001b[0m\u001b[0;34m=\u001b[0m\u001b[0mtest\u001b[0m\u001b[0;34m\u001b[0m\u001b[0;34m\u001b[0m\u001b[0m\n\u001b[0;32m----> 3\u001b[0;31m \u001b[0mdf\u001b[0m\u001b[0;34m[\u001b[0m\u001b[0;34m'predict'\u001b[0m\u001b[0;34m]\u001b[0m \u001b[0;34m=\u001b[0m \u001b[0mmodel\u001b[0m\u001b[0;34m.\u001b[0m\u001b[0mpredict\u001b[0m\u001b[0;34m(\u001b[0m\u001b[0mxTest\u001b[0m\u001b[0;34m)\u001b[0m\u001b[0;34m\u001b[0m\u001b[0;34m\u001b[0m\u001b[0m\n\u001b[0m\u001b[1;32m      4\u001b[0m \u001b[0mdf\u001b[0m\u001b[0;34m[\u001b[0m\u001b[0;34m'strat'\u001b[0m\u001b[0;34m]\u001b[0m\u001b[0;34m=\u001b[0m \u001b[0mdf\u001b[0m\u001b[0;34m[\u001b[0m\u001b[0;34m'predict'\u001b[0m\u001b[0;34m]\u001b[0m\u001b[0;34m*\u001b[0m \u001b[0mdf\u001b[0m\u001b[0;34m[\u001b[0m\u001b[0;34m'return'\u001b[0m\u001b[0;34m]\u001b[0m\u001b[0;34m\u001b[0m\u001b[0;34m\u001b[0m\u001b[0m\n\u001b[1;32m      5\u001b[0m \u001b[0;34m(\u001b[0m\u001b[0mdf\u001b[0m\u001b[0;34m[\u001b[0m\u001b[0mtarget\u001b[0m\u001b[0;34m]\u001b[0m\u001b[0;34m==\u001b[0m\u001b[0mdf\u001b[0m\u001b[0;34m[\u001b[0m\u001b[0;34m'predict'\u001b[0m\u001b[0;34m]\u001b[0m\u001b[0;34m)\u001b[0m\u001b[0;34m.\u001b[0m\u001b[0mvalue_counts\u001b[0m\u001b[0;34m(\u001b[0m\u001b[0;34m)\u001b[0m\u001b[0;34m/\u001b[0m\u001b[0mdf\u001b[0m\u001b[0;34m.\u001b[0m\u001b[0mshape\u001b[0m\u001b[0;34m[\u001b[0m\u001b[0;36m0\u001b[0m\u001b[0;34m]\u001b[0m\u001b[0;34m\u001b[0m\u001b[0;34m\u001b[0m\u001b[0m\n",
            "\u001b[0;32m/usr/local/lib/python3.6/dist-packages/sklearn/linear_model/_base.py\u001b[0m in \u001b[0;36mpredict\u001b[0;34m(self, X)\u001b[0m\n\u001b[1;32m    291\u001b[0m             \u001b[0mPredicted\u001b[0m \u001b[0;32mclass\u001b[0m \u001b[0mlabel\u001b[0m \u001b[0mper\u001b[0m \u001b[0msample\u001b[0m\u001b[0;34m.\u001b[0m\u001b[0;34m\u001b[0m\u001b[0;34m\u001b[0m\u001b[0m\n\u001b[1;32m    292\u001b[0m         \"\"\"\n\u001b[0;32m--> 293\u001b[0;31m         \u001b[0mscores\u001b[0m \u001b[0;34m=\u001b[0m \u001b[0mself\u001b[0m\u001b[0;34m.\u001b[0m\u001b[0mdecision_function\u001b[0m\u001b[0;34m(\u001b[0m\u001b[0mX\u001b[0m\u001b[0;34m)\u001b[0m\u001b[0;34m\u001b[0m\u001b[0;34m\u001b[0m\u001b[0m\n\u001b[0m\u001b[1;32m    294\u001b[0m         \u001b[0;32mif\u001b[0m \u001b[0mlen\u001b[0m\u001b[0;34m(\u001b[0m\u001b[0mscores\u001b[0m\u001b[0;34m.\u001b[0m\u001b[0mshape\u001b[0m\u001b[0;34m)\u001b[0m \u001b[0;34m==\u001b[0m \u001b[0;36m1\u001b[0m\u001b[0;34m:\u001b[0m\u001b[0;34m\u001b[0m\u001b[0;34m\u001b[0m\u001b[0m\n\u001b[1;32m    295\u001b[0m             \u001b[0mindices\u001b[0m \u001b[0;34m=\u001b[0m \u001b[0;34m(\u001b[0m\u001b[0mscores\u001b[0m \u001b[0;34m>\u001b[0m \u001b[0;36m0\u001b[0m\u001b[0;34m)\u001b[0m\u001b[0;34m.\u001b[0m\u001b[0mastype\u001b[0m\u001b[0;34m(\u001b[0m\u001b[0mnp\u001b[0m\u001b[0;34m.\u001b[0m\u001b[0mint\u001b[0m\u001b[0;34m)\u001b[0m\u001b[0;34m\u001b[0m\u001b[0;34m\u001b[0m\u001b[0m\n",
            "\u001b[0;32m/usr/local/lib/python3.6/dist-packages/sklearn/linear_model/_base.py\u001b[0m in \u001b[0;36mdecision_function\u001b[0;34m(self, X)\u001b[0m\n\u001b[1;32m    271\u001b[0m         \u001b[0;32mif\u001b[0m \u001b[0mX\u001b[0m\u001b[0;34m.\u001b[0m\u001b[0mshape\u001b[0m\u001b[0;34m[\u001b[0m\u001b[0;36m1\u001b[0m\u001b[0;34m]\u001b[0m \u001b[0;34m!=\u001b[0m \u001b[0mn_features\u001b[0m\u001b[0;34m:\u001b[0m\u001b[0;34m\u001b[0m\u001b[0;34m\u001b[0m\u001b[0m\n\u001b[1;32m    272\u001b[0m             raise ValueError(\"X has %d features per sample; expecting %d\"\n\u001b[0;32m--> 273\u001b[0;31m                              % (X.shape[1], n_features))\n\u001b[0m\u001b[1;32m    274\u001b[0m \u001b[0;34m\u001b[0m\u001b[0m\n\u001b[1;32m    275\u001b[0m         scores = safe_sparse_dot(X, self.coef_.T,\n",
            "\u001b[0;31mValueError\u001b[0m: X has 10 features per sample; expecting 6"
          ]
        }
      ]
    },
    {
      "cell_type": "code",
      "metadata": {
        "id": "_FrtBqP5BSYA",
        "colab_type": "code",
        "colab": {
          "base_uri": "https://localhost:8080/",
          "height": 314
        },
        "outputId": "9cc526db-cf89-44fa-fe5e-a12d77e4211d"
      },
      "source": [
        "model = gbmodel\n",
        "df=test\n",
        "df['predict'] = model.predict(df[features])\n",
        "df['strat']= df['predict']* df['return']\n",
        "(df[target]==df['predict']).value_counts()/df.shape[0]"
      ],
      "execution_count": null,
      "outputs": [
        {
          "output_type": "stream",
          "text": [
            "/usr/local/lib/python3.6/dist-packages/ipykernel_launcher.py:3: SettingWithCopyWarning: \n",
            "A value is trying to be set on a copy of a slice from a DataFrame.\n",
            "Try using .loc[row_indexer,col_indexer] = value instead\n",
            "\n",
            "See the caveats in the documentation: https://pandas.pydata.org/pandas-docs/stable/user_guide/indexing.html#returning-a-view-versus-a-copy\n",
            "  This is separate from the ipykernel package so we can avoid doing imports until\n",
            "/usr/local/lib/python3.6/dist-packages/ipykernel_launcher.py:4: SettingWithCopyWarning: \n",
            "A value is trying to be set on a copy of a slice from a DataFrame.\n",
            "Try using .loc[row_indexer,col_indexer] = value instead\n",
            "\n",
            "See the caveats in the documentation: https://pandas.pydata.org/pandas-docs/stable/user_guide/indexing.html#returning-a-view-versus-a-copy\n",
            "  after removing the cwd from sys.path.\n"
          ],
          "name": "stderr"
        },
        {
          "output_type": "execute_result",
          "data": {
            "text/plain": [
              "True     0.524851\n",
              "False    0.475149\n",
              "dtype: float64"
            ]
          },
          "metadata": {
            "tags": []
          },
          "execution_count": 85
        }
      ]
    },
    {
      "cell_type": "code",
      "metadata": {
        "id": "ZNHK3zednUL0",
        "colab_type": "code",
        "colab": {
          "base_uri": "https://localhost:8080/",
          "height": 314
        },
        "outputId": "43b26014-7aa1-4f3f-aa6c-e9ff7cd77438"
      },
      "source": [
        "model = RFmodel\n",
        "df=test\n",
        "df['predict'] = RFmodel.predict(df[features])\n",
        "df['strat']= df['predict']* df['return']\n",
        "(df[target]==df['predict']).value_counts()/df.shape[0]"
      ],
      "execution_count": null,
      "outputs": [
        {
          "output_type": "stream",
          "text": [
            "/usr/local/lib/python3.6/dist-packages/ipykernel_launcher.py:3: SettingWithCopyWarning: \n",
            "A value is trying to be set on a copy of a slice from a DataFrame.\n",
            "Try using .loc[row_indexer,col_indexer] = value instead\n",
            "\n",
            "See the caveats in the documentation: https://pandas.pydata.org/pandas-docs/stable/user_guide/indexing.html#returning-a-view-versus-a-copy\n",
            "  This is separate from the ipykernel package so we can avoid doing imports until\n",
            "/usr/local/lib/python3.6/dist-packages/ipykernel_launcher.py:4: SettingWithCopyWarning: \n",
            "A value is trying to be set on a copy of a slice from a DataFrame.\n",
            "Try using .loc[row_indexer,col_indexer] = value instead\n",
            "\n",
            "See the caveats in the documentation: https://pandas.pydata.org/pandas-docs/stable/user_guide/indexing.html#returning-a-view-versus-a-copy\n",
            "  after removing the cwd from sys.path.\n"
          ],
          "name": "stderr"
        },
        {
          "output_type": "execute_result",
          "data": {
            "text/plain": [
              "True     0.510934\n",
              "False    0.489066\n",
              "dtype: float64"
            ]
          },
          "metadata": {
            "tags": []
          },
          "execution_count": 61
        }
      ]
    },
    {
      "cell_type": "markdown",
      "metadata": {
        "id": "HU3AV5aISBsb",
        "colab_type": "text"
      },
      "source": [
        "Backtesting"
      ]
    },
    {
      "cell_type": "code",
      "metadata": {
        "id": "04FNY4dpSCkW",
        "colab_type": "code",
        "colab": {
          "base_uri": "https://localhost:8080/",
          "height": 591
        },
        "outputId": "33050ea7-81c4-4ba3-aa7d-453d5696d279"
      },
      "source": [
        "model = logmodel\n",
        "for i in [test, validation]:\n",
        "  df = i\n",
        "  df['predict'] = model.predict(df[features])\n",
        "  df['strat']= df['predict']* df['return']\n",
        "  print('Results for ')\n",
        "  print('Buy & Hold Return: ', df['return'].sum())\n",
        "  print('Strategy Return: ', df['strat'].sum())"
      ],
      "execution_count": null,
      "outputs": [
        {
          "output_type": "stream",
          "text": [
            "Results for \n",
            "Buy & Hold Return:  -7.6002655029296875\n",
            "Strategy Return:  18.139846801757812\n",
            "Results for \n",
            "Buy & Hold Return:  48.92970275878906\n",
            "Strategy Return:  -13.890243530273438\n"
          ],
          "name": "stdout"
        },
        {
          "output_type": "stream",
          "text": [
            "/usr/local/lib/python3.6/dist-packages/ipykernel_launcher.py:4: SettingWithCopyWarning: \n",
            "A value is trying to be set on a copy of a slice from a DataFrame.\n",
            "Try using .loc[row_indexer,col_indexer] = value instead\n",
            "\n",
            "See the caveats in the documentation: https://pandas.pydata.org/pandas-docs/stable/user_guide/indexing.html#returning-a-view-versus-a-copy\n",
            "  after removing the cwd from sys.path.\n",
            "/usr/local/lib/python3.6/dist-packages/ipykernel_launcher.py:5: SettingWithCopyWarning: \n",
            "A value is trying to be set on a copy of a slice from a DataFrame.\n",
            "Try using .loc[row_indexer,col_indexer] = value instead\n",
            "\n",
            "See the caveats in the documentation: https://pandas.pydata.org/pandas-docs/stable/user_guide/indexing.html#returning-a-view-versus-a-copy\n",
            "  \"\"\"\n",
            "/usr/local/lib/python3.6/dist-packages/ipykernel_launcher.py:4: SettingWithCopyWarning: \n",
            "A value is trying to be set on a copy of a slice from a DataFrame.\n",
            "Try using .loc[row_indexer,col_indexer] = value instead\n",
            "\n",
            "See the caveats in the documentation: https://pandas.pydata.org/pandas-docs/stable/user_guide/indexing.html#returning-a-view-versus-a-copy\n",
            "  after removing the cwd from sys.path.\n",
            "/usr/local/lib/python3.6/dist-packages/ipykernel_launcher.py:5: SettingWithCopyWarning: \n",
            "A value is trying to be set on a copy of a slice from a DataFrame.\n",
            "Try using .loc[row_indexer,col_indexer] = value instead\n",
            "\n",
            "See the caveats in the documentation: https://pandas.pydata.org/pandas-docs/stable/user_guide/indexing.html#returning-a-view-versus-a-copy\n",
            "  \"\"\"\n"
          ],
          "name": "stderr"
        }
      ]
    },
    {
      "cell_type": "code",
      "metadata": {
        "id": "tQEHTzAWunfh",
        "colab_type": "code",
        "colab": {
          "base_uri": "https://localhost:8080/",
          "height": 591
        },
        "outputId": "1d7837c2-9852-4713-ece1-c1b87c07a47b"
      },
      "source": [
        "for i in [test, validation]:\n",
        "  df = i\n",
        "  df['predict'] = gbmodel.predict(df[features])\n",
        "  df['strat']= df['predict']* df['return']\n",
        "  print('Results for ')\n",
        "  print('Buy & Hold Return: ', df['return'].sum())\n",
        "  print('Strategy Return: ', df['strat'].sum())\n"
      ],
      "execution_count": null,
      "outputs": [
        {
          "output_type": "stream",
          "text": [
            "Results for \n",
            "Buy & Hold Return:  -7.6002655029296875\n",
            "Strategy Return:  -93.31925964355469\n",
            "Results for \n",
            "Buy & Hold Return:  48.92970275878906\n",
            "Strategy Return:  4.9294891357421875\n"
          ],
          "name": "stdout"
        },
        {
          "output_type": "stream",
          "text": [
            "/usr/local/lib/python3.6/dist-packages/ipykernel_launcher.py:3: SettingWithCopyWarning: \n",
            "A value is trying to be set on a copy of a slice from a DataFrame.\n",
            "Try using .loc[row_indexer,col_indexer] = value instead\n",
            "\n",
            "See the caveats in the documentation: https://pandas.pydata.org/pandas-docs/stable/user_guide/indexing.html#returning-a-view-versus-a-copy\n",
            "  This is separate from the ipykernel package so we can avoid doing imports until\n",
            "/usr/local/lib/python3.6/dist-packages/ipykernel_launcher.py:4: SettingWithCopyWarning: \n",
            "A value is trying to be set on a copy of a slice from a DataFrame.\n",
            "Try using .loc[row_indexer,col_indexer] = value instead\n",
            "\n",
            "See the caveats in the documentation: https://pandas.pydata.org/pandas-docs/stable/user_guide/indexing.html#returning-a-view-versus-a-copy\n",
            "  after removing the cwd from sys.path.\n",
            "/usr/local/lib/python3.6/dist-packages/ipykernel_launcher.py:3: SettingWithCopyWarning: \n",
            "A value is trying to be set on a copy of a slice from a DataFrame.\n",
            "Try using .loc[row_indexer,col_indexer] = value instead\n",
            "\n",
            "See the caveats in the documentation: https://pandas.pydata.org/pandas-docs/stable/user_guide/indexing.html#returning-a-view-versus-a-copy\n",
            "  This is separate from the ipykernel package so we can avoid doing imports until\n",
            "/usr/local/lib/python3.6/dist-packages/ipykernel_launcher.py:4: SettingWithCopyWarning: \n",
            "A value is trying to be set on a copy of a slice from a DataFrame.\n",
            "Try using .loc[row_indexer,col_indexer] = value instead\n",
            "\n",
            "See the caveats in the documentation: https://pandas.pydata.org/pandas-docs/stable/user_guide/indexing.html#returning-a-view-versus-a-copy\n",
            "  after removing the cwd from sys.path.\n"
          ],
          "name": "stderr"
        }
      ]
    },
    {
      "cell_type": "code",
      "metadata": {
        "id": "WzBklGHwSG7d",
        "colab_type": "code",
        "colab": {
          "base_uri": "https://localhost:8080/",
          "height": 776
        },
        "outputId": "76959b8e-cc39-4fe2-affa-21dd19c95bb1"
      },
      "source": [
        "for model in [logmodel, gbmodel] :#, RFmodel]:\n",
        "  modelname = str(model)\n",
        "  df = validation\n",
        "  df['predict'] = model.predict(df[features])\n",
        "  df['strat']= df['predict']* df['return']\n",
        "  print('Results for ', modelname, 'strategy is: ', df['strat'].sum()) #.apply(np.exp)\n",
        "print('Baseline Buy & Hold return: ', df['return'].sum())"
      ],
      "execution_count": null,
      "outputs": [
        {
          "output_type": "stream",
          "text": [
            "Results for  LogisticRegression(C=1.0, class_weight=None, dual=False, fit_intercept=True,\n",
            "                   intercept_scaling=1, l1_ratio=None, max_iter=1000,\n",
            "                   multi_class='auto', n_jobs=None, penalty='l2',\n",
            "                   random_state=0, solver='lbfgs', tol=0.0001, verbose=0,\n",
            "                   warm_start=False) strategy is:  -13.890243530273438\n",
            "Results for  GradientBoostingClassifier(ccp_alpha=0.0, criterion='friedman_mse', init=None,\n",
            "                           learning_rate=0.1, loss='deviance', max_depth=3,\n",
            "                           max_features=None, max_leaf_nodes=None,\n",
            "                           min_impurity_decrease=0.0, min_impurity_split=None,\n",
            "                           min_samples_leaf=1, min_samples_split=2,\n",
            "                           min_weight_fraction_leaf=0.0, n_estimators=100,\n",
            "                           n_iter_no_change=None, presort='deprecated',\n",
            "                           random_state=0, subsample=1.0, tol=0.0001,\n",
            "                           validation_fraction=0.1, verbose=0,\n",
            "                           warm_start=False) strategy is:  4.9294891357421875\n",
            "Baseline Buy & Hold return:  48.92970275878906\n"
          ],
          "name": "stdout"
        },
        {
          "output_type": "stream",
          "text": [
            "/usr/local/lib/python3.6/dist-packages/ipykernel_launcher.py:4: SettingWithCopyWarning: \n",
            "A value is trying to be set on a copy of a slice from a DataFrame.\n",
            "Try using .loc[row_indexer,col_indexer] = value instead\n",
            "\n",
            "See the caveats in the documentation: https://pandas.pydata.org/pandas-docs/stable/user_guide/indexing.html#returning-a-view-versus-a-copy\n",
            "  after removing the cwd from sys.path.\n",
            "/usr/local/lib/python3.6/dist-packages/ipykernel_launcher.py:5: SettingWithCopyWarning: \n",
            "A value is trying to be set on a copy of a slice from a DataFrame.\n",
            "Try using .loc[row_indexer,col_indexer] = value instead\n",
            "\n",
            "See the caveats in the documentation: https://pandas.pydata.org/pandas-docs/stable/user_guide/indexing.html#returning-a-view-versus-a-copy\n",
            "  \"\"\"\n",
            "/usr/local/lib/python3.6/dist-packages/ipykernel_launcher.py:4: SettingWithCopyWarning: \n",
            "A value is trying to be set on a copy of a slice from a DataFrame.\n",
            "Try using .loc[row_indexer,col_indexer] = value instead\n",
            "\n",
            "See the caveats in the documentation: https://pandas.pydata.org/pandas-docs/stable/user_guide/indexing.html#returning-a-view-versus-a-copy\n",
            "  after removing the cwd from sys.path.\n",
            "/usr/local/lib/python3.6/dist-packages/ipykernel_launcher.py:5: SettingWithCopyWarning: \n",
            "A value is trying to be set on a copy of a slice from a DataFrame.\n",
            "Try using .loc[row_indexer,col_indexer] = value instead\n",
            "\n",
            "See the caveats in the documentation: https://pandas.pydata.org/pandas-docs/stable/user_guide/indexing.html#returning-a-view-versus-a-copy\n",
            "  \"\"\"\n"
          ],
          "name": "stderr"
        }
      ]
    },
    {
      "cell_type": "code",
      "metadata": {
        "id": "pYJ-XtaASsml",
        "colab_type": "code",
        "colab": {
          "base_uri": "https://localhost:8080/",
          "height": 620
        },
        "outputId": "9fd42e23-5a4b-4526-ae7e-4bbc00561faf"
      },
      "source": [
        "model = gbmodel\n",
        "df = test\n",
        "df['predict'] = model.predict(df[features])\n",
        "df['strat']= df['predict']* df['return']\n",
        "market = df['return']\n",
        "strategy = df['strat']\n",
        "se1= [market, strategy]\n",
        "figdata=df[['return', 'strat']].cumsum().plot(figsize=(10,6))\n"
      ],
      "execution_count": null,
      "outputs": [
        {
          "output_type": "stream",
          "text": [
            "/usr/local/lib/python3.6/dist-packages/ipykernel_launcher.py:3: SettingWithCopyWarning: \n",
            "A value is trying to be set on a copy of a slice from a DataFrame.\n",
            "Try using .loc[row_indexer,col_indexer] = value instead\n",
            "\n",
            "See the caveats in the documentation: https://pandas.pydata.org/pandas-docs/stable/user_guide/indexing.html#returning-a-view-versus-a-copy\n",
            "  This is separate from the ipykernel package so we can avoid doing imports until\n",
            "/usr/local/lib/python3.6/dist-packages/ipykernel_launcher.py:4: SettingWithCopyWarning: \n",
            "A value is trying to be set on a copy of a slice from a DataFrame.\n",
            "Try using .loc[row_indexer,col_indexer] = value instead\n",
            "\n",
            "See the caveats in the documentation: https://pandas.pydata.org/pandas-docs/stable/user_guide/indexing.html#returning-a-view-versus-a-copy\n",
            "  after removing the cwd from sys.path.\n"
          ],
          "name": "stderr"
        },
        {
          "output_type": "display_data",
          "data": {
            "image/png": "[encoded data removed]",
            "text/plain": [
              "<Figure size 720x432 with 1 Axes>"
            ]
          },
          "metadata": {
            "tags": [],
            "needs_background": "light"
          }
        }
      ]
    },
    {
      "cell_type": "code",
      "metadata": {
        "id": "yyaH4KA7SwZ0",
        "colab_type": "code",
        "colab": {
          "base_uri": "https://localhost:8080/",
          "height": 72
        },
        "outputId": "c3a5bfdb-b620-424b-bf74-c6a324064668"
      },
      "source": [
        "df1=df.tail(100)\n",
        "(df1['direction']==df1['predict']).value_counts()/df1.shape[0]"
      ],
      "execution_count": null,
      "outputs": [
        {
          "output_type": "execute_result",
          "data": {
            "text/plain": [
              "True     0.55\n",
              "False    0.45\n",
              "dtype: float64"
            ]
          },
          "metadata": {
            "tags": []
          },
          "execution_count": 142
        }
      ]
    },
    {
      "cell_type": "code",
      "metadata": {
        "id": "NChgk2byvj4J",
        "colab_type": "code",
        "colab": {
          "base_uri": "https://localhost:8080/",
          "height": 414
        },
        "outputId": "1c976077-80fb-4699-a1fd-668d5deda7e7"
      },
      "source": [
        "df.tail(10)"
      ],
      "execution_count": null,
      "outputs": [
        {
          "output_type": "execute_result",
          "data": {
            "text/html": [
              "<div>\n",
              "<style scoped>\n",
              "    .dataframe tbody tr th:only-of-type {\n",
              "        vertical-align: middle;\n",
              "    }\n",
              "\n",
              "    .dataframe tbody tr th {\n",
              "        vertical-align: top;\n",
              "    }\n",
              "\n",
              "    .dataframe thead th {\n",
              "        text-align: right;\n",
              "    }\n",
              "</style>\n",
              "<table border=\"1\" class=\"dataframe\">\n",
              "  <thead>\n",
              "    <tr style=\"text-align: right;\">\n",
              "      <th></th>\n",
              "      <th>SPY</th>\n",
              "      <th>Open</th>\n",
              "      <th>close_ratio</th>\n",
              "      <th>diff</th>\n",
              "      <th>daily_change</th>\n",
              "      <th>return</th>\n",
              "      <th>direction</th>\n",
              "      <th>SMA1</th>\n",
              "      <th>SMA2</th>\n",
              "      <th>SMA3</th>\n",
              "      <th>OSMA1</th>\n",
              "      <th>OSMA2</th>\n",
              "      <th>OSMA3</th>\n",
              "      <th>SMA1_ratio</th>\n",
              "      <th>SMA2_ratio</th>\n",
              "      <th>SMA3_ratio</th>\n",
              "      <th>Op_OSMA1</th>\n",
              "      <th>Op_OSMA2</th>\n",
              "      <th>Op_OSMA3</th>\n",
              "      <th>Open_Ratio</th>\n",
              "      <th>O/C_Ratio</th>\n",
              "      <th>lag_1</th>\n",
              "      <th>lag_2</th>\n",
              "      <th>lag_7</th>\n",
              "      <th>lag_8</th>\n",
              "      <th>lag_15</th>\n",
              "      <th>predict</th>\n",
              "      <th>strat</th>\n",
              "    </tr>\n",
              "    <tr>\n",
              "      <th>Date</th>\n",
              "      <th></th>\n",
              "      <th></th>\n",
              "      <th></th>\n",
              "      <th></th>\n",
              "      <th></th>\n",
              "      <th></th>\n",
              "      <th></th>\n",
              "      <th></th>\n",
              "      <th></th>\n",
              "      <th></th>\n",
              "      <th></th>\n",
              "      <th></th>\n",
              "      <th></th>\n",
              "      <th></th>\n",
              "      <th></th>\n",
              "      <th></th>\n",
              "      <th></th>\n",
              "      <th></th>\n",
              "      <th></th>\n",
              "      <th></th>\n",
              "      <th></th>\n",
              "      <th></th>\n",
              "      <th></th>\n",
              "      <th></th>\n",
              "      <th></th>\n",
              "      <th></th>\n",
              "      <th></th>\n",
              "      <th></th>\n",
              "    </tr>\n",
              "  </thead>\n",
              "  <tbody>\n",
              "    <tr>\n",
              "      <th>2020-07-02</th>\n",
              "      <td>312.230011</td>\n",
              "      <td>314.239990</td>\n",
              "      <td>0.005507</td>\n",
              "      <td>1.710022</td>\n",
              "      <td>0.993604</td>\n",
              "      <td>-2.009979</td>\n",
              "      <td>-1</td>\n",
              "      <td>307.779989</td>\n",
              "      <td>307.187492</td>\n",
              "      <td>308.338120</td>\n",
              "      <td>309.266663</td>\n",
              "      <td>307.771248</td>\n",
              "      <td>308.850624</td>\n",
              "      <td>1.004830</td>\n",
              "      <td>1.001900</td>\n",
              "      <td>1.001662</td>\n",
              "      <td>1.016081</td>\n",
              "      <td>1.021018</td>\n",
              "      <td>1.017450</td>\n",
              "      <td>1.015085</td>\n",
              "      <td>1.011980</td>\n",
              "      <td>0.949982</td>\n",
              "      <td>4.369995</td>\n",
              "      <td>-1.440002</td>\n",
              "      <td>2.630005</td>\n",
              "      <td>-10.850006</td>\n",
              "      <td>1</td>\n",
              "      <td>-2.009979</td>\n",
              "    </tr>\n",
              "    <tr>\n",
              "      <th>2020-07-06</th>\n",
              "      <td>317.049988</td>\n",
              "      <td>316.369995</td>\n",
              "      <td>0.015437</td>\n",
              "      <td>4.819977</td>\n",
              "      <td>1.002149</td>\n",
              "      <td>0.679993</td>\n",
              "      <td>1</td>\n",
              "      <td>310.369995</td>\n",
              "      <td>307.388744</td>\n",
              "      <td>307.914995</td>\n",
              "      <td>313.393331</td>\n",
              "      <td>308.131248</td>\n",
              "      <td>309.157499</td>\n",
              "      <td>1.009741</td>\n",
              "      <td>1.002416</td>\n",
              "      <td>1.004035</td>\n",
              "      <td>1.009498</td>\n",
              "      <td>1.026738</td>\n",
              "      <td>1.023330</td>\n",
              "      <td>1.006778</td>\n",
              "      <td>1.013259</td>\n",
              "      <td>-2.009979</td>\n",
              "      <td>0.949982</td>\n",
              "      <td>-5.750000</td>\n",
              "      <td>-1.440002</td>\n",
              "      <td>-4.029999</td>\n",
              "      <td>1</td>\n",
              "      <td>0.679993</td>\n",
              "    </tr>\n",
              "    <tr>\n",
              "      <th>2020-07-07</th>\n",
              "      <td>313.779999</td>\n",
              "      <td>315.380005</td>\n",
              "      <td>-0.010314</td>\n",
              "      <td>-3.269989</td>\n",
              "      <td>0.994927</td>\n",
              "      <td>-1.600006</td>\n",
              "      <td>-1</td>\n",
              "      <td>313.266663</td>\n",
              "      <td>308.013744</td>\n",
              "      <td>308.942495</td>\n",
              "      <td>315.329997</td>\n",
              "      <td>308.823750</td>\n",
              "      <td>309.603750</td>\n",
              "      <td>1.006587</td>\n",
              "      <td>1.002630</td>\n",
              "      <td>1.002140</td>\n",
              "      <td>1.000159</td>\n",
              "      <td>1.021230</td>\n",
              "      <td>1.018657</td>\n",
              "      <td>0.996871</td>\n",
              "      <td>0.994733</td>\n",
              "      <td>0.679993</td>\n",
              "      <td>-2.009979</td>\n",
              "      <td>3.880005</td>\n",
              "      <td>-5.750000</td>\n",
              "      <td>9.029999</td>\n",
              "      <td>1</td>\n",
              "      <td>-1.600006</td>\n",
              "    </tr>\n",
              "    <tr>\n",
              "      <th>2020-07-08</th>\n",
              "      <td>316.179993</td>\n",
              "      <td>314.609985</td>\n",
              "      <td>0.007649</td>\n",
              "      <td>2.399994</td>\n",
              "      <td>1.004990</td>\n",
              "      <td>1.570007</td>\n",
              "      <td>1</td>\n",
              "      <td>314.353333</td>\n",
              "      <td>309.224995</td>\n",
              "      <td>309.540621</td>\n",
              "      <td>315.453328</td>\n",
              "      <td>310.216248</td>\n",
              "      <td>310.640625</td>\n",
              "      <td>1.003499</td>\n",
              "      <td>1.003206</td>\n",
              "      <td>1.003554</td>\n",
              "      <td>0.997327</td>\n",
              "      <td>1.014163</td>\n",
              "      <td>1.012778</td>\n",
              "      <td>0.997558</td>\n",
              "      <td>1.002645</td>\n",
              "      <td>-1.600006</td>\n",
              "      <td>0.679993</td>\n",
              "      <td>-6.110016</td>\n",
              "      <td>3.880005</td>\n",
              "      <td>-2.520020</td>\n",
              "      <td>1</td>\n",
              "      <td>1.570007</td>\n",
              "    </tr>\n",
              "    <tr>\n",
              "      <th>2020-07-09</th>\n",
              "      <td>314.380005</td>\n",
              "      <td>316.839996</td>\n",
              "      <td>-0.005693</td>\n",
              "      <td>-1.799988</td>\n",
              "      <td>0.992236</td>\n",
              "      <td>-2.459991</td>\n",
              "      <td>-1</td>\n",
              "      <td>315.669993</td>\n",
              "      <td>310.328743</td>\n",
              "      <td>310.111246</td>\n",
              "      <td>315.609996</td>\n",
              "      <td>311.551247</td>\n",
              "      <td>310.725624</td>\n",
              "      <td>0.999810</td>\n",
              "      <td>1.003939</td>\n",
              "      <td>1.001981</td>\n",
              "      <td>1.003897</td>\n",
              "      <td>1.016976</td>\n",
              "      <td>1.019678</td>\n",
              "      <td>1.007088</td>\n",
              "      <td>1.002087</td>\n",
              "      <td>1.570007</td>\n",
              "      <td>-1.600006</td>\n",
              "      <td>3.049988</td>\n",
              "      <td>-6.110016</td>\n",
              "      <td>-2.410004</td>\n",
              "      <td>1</td>\n",
              "      <td>-2.459991</td>\n",
              "    </tr>\n",
              "    <tr>\n",
              "      <th>2020-07-10</th>\n",
              "      <td>317.589996</td>\n",
              "      <td>314.309998</td>\n",
              "      <td>0.010211</td>\n",
              "      <td>3.209991</td>\n",
              "      <td>1.010436</td>\n",
              "      <td>3.279999</td>\n",
              "      <td>1</td>\n",
              "      <td>314.779999</td>\n",
              "      <td>312.119995</td>\n",
              "      <td>310.199997</td>\n",
              "      <td>315.253326</td>\n",
              "      <td>313.163746</td>\n",
              "      <td>310.740623</td>\n",
              "      <td>1.001504</td>\n",
              "      <td>1.003344</td>\n",
              "      <td>1.001743</td>\n",
              "      <td>0.997008</td>\n",
              "      <td>1.003660</td>\n",
              "      <td>1.011487</td>\n",
              "      <td>0.992015</td>\n",
              "      <td>0.999777</td>\n",
              "      <td>-2.459991</td>\n",
              "      <td>1.570007</td>\n",
              "      <td>4.369995</td>\n",
              "      <td>3.049988</td>\n",
              "      <td>1.769989</td>\n",
              "      <td>1</td>\n",
              "      <td>3.279999</td>\n",
              "    </tr>\n",
              "    <tr>\n",
              "      <th>2020-07-13</th>\n",
              "      <td>314.839996</td>\n",
              "      <td>320.130005</td>\n",
              "      <td>-0.008659</td>\n",
              "      <td>-2.750000</td>\n",
              "      <td>0.983475</td>\n",
              "      <td>-5.290009</td>\n",
              "      <td>-1</td>\n",
              "      <td>316.049998</td>\n",
              "      <td>313.761246</td>\n",
              "      <td>310.570621</td>\n",
              "      <td>317.093333</td>\n",
              "      <td>315.181248</td>\n",
              "      <td>311.373123</td>\n",
              "      <td>1.003301</td>\n",
              "      <td>1.004526</td>\n",
              "      <td>1.002584</td>\n",
              "      <td>1.009577</td>\n",
              "      <td>1.015701</td>\n",
              "      <td>1.028123</td>\n",
              "      <td>1.018517</td>\n",
              "      <td>1.007998</td>\n",
              "      <td>3.279999</td>\n",
              "      <td>-2.459991</td>\n",
              "      <td>0.949982</td>\n",
              "      <td>4.369995</td>\n",
              "      <td>-5.529999</td>\n",
              "      <td>1</td>\n",
              "      <td>-5.290009</td>\n",
              "    </tr>\n",
              "    <tr>\n",
              "      <th>2020-07-14</th>\n",
              "      <td>318.920013</td>\n",
              "      <td>313.299988</td>\n",
              "      <td>0.012959</td>\n",
              "      <td>4.080017</td>\n",
              "      <td>1.017938</td>\n",
              "      <td>5.620026</td>\n",
              "      <td>1</td>\n",
              "      <td>315.603333</td>\n",
              "      <td>314.571247</td>\n",
              "      <td>310.761871</td>\n",
              "      <td>315.913330</td>\n",
              "      <td>315.647495</td>\n",
              "      <td>311.318747</td>\n",
              "      <td>1.000982</td>\n",
              "      <td>1.003421</td>\n",
              "      <td>1.001792</td>\n",
              "      <td>0.991728</td>\n",
              "      <td>0.992563</td>\n",
              "      <td>1.006364</td>\n",
              "      <td>0.978665</td>\n",
              "      <td>0.995109</td>\n",
              "      <td>-5.290009</td>\n",
              "      <td>3.279999</td>\n",
              "      <td>-2.009979</td>\n",
              "      <td>0.949982</td>\n",
              "      <td>2.630005</td>\n",
              "      <td>1</td>\n",
              "      <td>5.620026</td>\n",
              "    </tr>\n",
              "    <tr>\n",
              "      <th>2020-07-15</th>\n",
              "      <td>321.850006</td>\n",
              "      <td>322.410004</td>\n",
              "      <td>0.009187</td>\n",
              "      <td>2.929993</td>\n",
              "      <td>0.998263</td>\n",
              "      <td>-0.559998</td>\n",
              "      <td>-1</td>\n",
              "      <td>317.116669</td>\n",
              "      <td>315.621250</td>\n",
              "      <td>311.404371</td>\n",
              "      <td>318.613332</td>\n",
              "      <td>316.668747</td>\n",
              "      <td>312.219997</td>\n",
              "      <td>1.004720</td>\n",
              "      <td>1.003319</td>\n",
              "      <td>1.002619</td>\n",
              "      <td>1.011916</td>\n",
              "      <td>1.018130</td>\n",
              "      <td>1.032637</td>\n",
              "      <td>1.029078</td>\n",
              "      <td>1.010943</td>\n",
              "      <td>5.620026</td>\n",
              "      <td>-5.290009</td>\n",
              "      <td>0.679993</td>\n",
              "      <td>-2.009979</td>\n",
              "      <td>-1.440002</td>\n",
              "      <td>1</td>\n",
              "      <td>-0.559998</td>\n",
              "    </tr>\n",
              "    <tr>\n",
              "      <th>2020-07-16</th>\n",
              "      <td>320.790009</td>\n",
              "      <td>319.790009</td>\n",
              "      <td>-0.003293</td>\n",
              "      <td>-1.059998</td>\n",
              "      <td>1.003127</td>\n",
              "      <td>1.000000</td>\n",
              "      <td>1</td>\n",
              "      <td>318.536672</td>\n",
              "      <td>316.823750</td>\n",
              "      <td>312.106247</td>\n",
              "      <td>318.500000</td>\n",
              "      <td>317.096249</td>\n",
              "      <td>312.613749</td>\n",
              "      <td>0.999885</td>\n",
              "      <td>1.000860</td>\n",
              "      <td>1.001626</td>\n",
              "      <td>1.004050</td>\n",
              "      <td>1.008495</td>\n",
              "      <td>1.022956</td>\n",
              "      <td>0.991874</td>\n",
              "      <td>0.993600</td>\n",
              "      <td>-0.559998</td>\n",
              "      <td>5.620026</td>\n",
              "      <td>-1.600006</td>\n",
              "      <td>0.679993</td>\n",
              "      <td>-5.750000</td>\n",
              "      <td>1</td>\n",
              "      <td>1.000000</td>\n",
              "    </tr>\n",
              "  </tbody>\n",
              "</table>\n",
              "</div>"
            ],
            "text/plain": [
              "                   SPY        Open  close_ratio  ...     lag_15  predict     strat\n",
              "Date                                             ...                              \n",
              "2020-07-02  312.230011  314.239990     0.005507  ... -10.850006        1 -2.009979\n",
              "2020-07-06  317.049988  316.369995     0.015437  ...  -4.029999        1  0.679993\n",
              "2020-07-07  313.779999  315.380005    -0.010314  ...   9.029999        1 -1.600006\n",
              "2020-07-08  316.179993  314.609985     0.007649  ...  -2.520020        1  1.570007\n",
              "2020-07-09  314.380005  316.839996    -0.005693  ...  -2.410004        1 -2.459991\n",
              "2020-07-10  317.589996  314.309998     0.010211  ...   1.769989        1  3.279999\n",
              "2020-07-13  314.839996  320.130005    -0.008659  ...  -5.529999        1 -5.290009\n",
              "2020-07-14  318.920013  313.299988     0.012959  ...   2.630005        1  5.620026\n",
              "2020-07-15  321.850006  322.410004     0.009187  ...  -1.440002        1 -0.559998\n",
              "2020-07-16  320.790009  319.790009    -0.003293  ...  -5.750000        1  1.000000\n",
              "\n",
              "[10 rows x 28 columns]"
            ]
          },
          "metadata": {
            "tags": []
          },
          "execution_count": 139
        }
      ]
    },
    {
      "cell_type": "code",
      "metadata": {
        "id": "cHCYYl_8r6uo",
        "colab_type": "code",
        "colab": {
          "base_uri": "https://localhost:8080/",
          "height": 394
        },
        "outputId": "22409d61-0be8-4171-ee55-dd329aef2ba8"
      },
      "source": [
        "df[[symbol, 'Open','return', 'direction', 'predict']].tail(10)"
      ],
      "execution_count": null,
      "outputs": [
        {
          "output_type": "execute_result",
          "data": {
            "text/html": [
              "<div>\n",
              "<style scoped>\n",
              "    .dataframe tbody tr th:only-of-type {\n",
              "        vertical-align: middle;\n",
              "    }\n",
              "\n",
              "    .dataframe tbody tr th {\n",
              "        vertical-align: top;\n",
              "    }\n",
              "\n",
              "    .dataframe thead th {\n",
              "        text-align: right;\n",
              "    }\n",
              "</style>\n",
              "<table border=\"1\" class=\"dataframe\">\n",
              "  <thead>\n",
              "    <tr style=\"text-align: right;\">\n",
              "      <th></th>\n",
              "      <th>SPY</th>\n",
              "      <th>Open</th>\n",
              "      <th>return</th>\n",
              "      <th>direction</th>\n",
              "      <th>predict</th>\n",
              "    </tr>\n",
              "    <tr>\n",
              "      <th>Date</th>\n",
              "      <th></th>\n",
              "      <th></th>\n",
              "      <th></th>\n",
              "      <th></th>\n",
              "      <th></th>\n",
              "    </tr>\n",
              "  </thead>\n",
              "  <tbody>\n",
              "    <tr>\n",
              "      <th>2020-07-02</th>\n",
              "      <td>312.230011</td>\n",
              "      <td>314.239990</td>\n",
              "      <td>-2.009979</td>\n",
              "      <td>-1</td>\n",
              "      <td>1</td>\n",
              "    </tr>\n",
              "    <tr>\n",
              "      <th>2020-07-06</th>\n",
              "      <td>317.049988</td>\n",
              "      <td>316.369995</td>\n",
              "      <td>0.679993</td>\n",
              "      <td>1</td>\n",
              "      <td>1</td>\n",
              "    </tr>\n",
              "    <tr>\n",
              "      <th>2020-07-07</th>\n",
              "      <td>313.779999</td>\n",
              "      <td>315.380005</td>\n",
              "      <td>-1.600006</td>\n",
              "      <td>-1</td>\n",
              "      <td>1</td>\n",
              "    </tr>\n",
              "    <tr>\n",
              "      <th>2020-07-08</th>\n",
              "      <td>316.179993</td>\n",
              "      <td>314.609985</td>\n",
              "      <td>1.570007</td>\n",
              "      <td>1</td>\n",
              "      <td>1</td>\n",
              "    </tr>\n",
              "    <tr>\n",
              "      <th>2020-07-09</th>\n",
              "      <td>314.380005</td>\n",
              "      <td>316.839996</td>\n",
              "      <td>-2.459991</td>\n",
              "      <td>-1</td>\n",
              "      <td>1</td>\n",
              "    </tr>\n",
              "    <tr>\n",
              "      <th>2020-07-10</th>\n",
              "      <td>317.589996</td>\n",
              "      <td>314.309998</td>\n",
              "      <td>3.279999</td>\n",
              "      <td>1</td>\n",
              "      <td>1</td>\n",
              "    </tr>\n",
              "    <tr>\n",
              "      <th>2020-07-13</th>\n",
              "      <td>314.839996</td>\n",
              "      <td>320.130005</td>\n",
              "      <td>-5.290009</td>\n",
              "      <td>-1</td>\n",
              "      <td>1</td>\n",
              "    </tr>\n",
              "    <tr>\n",
              "      <th>2020-07-14</th>\n",
              "      <td>318.920013</td>\n",
              "      <td>313.299988</td>\n",
              "      <td>5.620026</td>\n",
              "      <td>1</td>\n",
              "      <td>1</td>\n",
              "    </tr>\n",
              "    <tr>\n",
              "      <th>2020-07-15</th>\n",
              "      <td>321.850006</td>\n",
              "      <td>322.410004</td>\n",
              "      <td>-0.559998</td>\n",
              "      <td>-1</td>\n",
              "      <td>1</td>\n",
              "    </tr>\n",
              "    <tr>\n",
              "      <th>2020-07-16</th>\n",
              "      <td>320.790009</td>\n",
              "      <td>319.790009</td>\n",
              "      <td>1.000000</td>\n",
              "      <td>1</td>\n",
              "      <td>1</td>\n",
              "    </tr>\n",
              "  </tbody>\n",
              "</table>\n",
              "</div>"
            ],
            "text/plain": [
              "                   SPY        Open    return  direction  predict\n",
              "Date                                                            \n",
              "2020-07-02  312.230011  314.239990 -2.009979         -1        1\n",
              "2020-07-06  317.049988  316.369995  0.679993          1        1\n",
              "2020-07-07  313.779999  315.380005 -1.600006         -1        1\n",
              "2020-07-08  316.179993  314.609985  1.570007          1        1\n",
              "2020-07-09  314.380005  316.839996 -2.459991         -1        1\n",
              "2020-07-10  317.589996  314.309998  3.279999          1        1\n",
              "2020-07-13  314.839996  320.130005 -5.290009         -1        1\n",
              "2020-07-14  318.920013  313.299988  5.620026          1        1\n",
              "2020-07-15  321.850006  322.410004 -0.559998         -1        1\n",
              "2020-07-16  320.790009  319.790009  1.000000          1        1"
            ]
          },
          "metadata": {
            "tags": []
          },
          "execution_count": 141
        }
      ]
    },
    {
      "cell_type": "code",
      "metadata": {
        "id": "D1zJqgqBuS_c",
        "colab_type": "code",
        "colab": {}
      },
      "source": [
        ""
      ],
      "execution_count": null,
      "outputs": []
    }
  ]
}